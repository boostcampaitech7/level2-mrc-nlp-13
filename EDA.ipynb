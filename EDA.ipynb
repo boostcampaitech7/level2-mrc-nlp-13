{
 "cells": [
  {
   "cell_type": "markdown",
   "metadata": {},
   "source": [
    "# 위키피디아"
   ]
  },
  {
   "cell_type": "code",
   "execution_count": 14,
   "metadata": {},
   "outputs": [
    {
     "name": "stdout",
     "output_type": "stream",
     "text": [
      "                                                text corpus_source   url  \\\n",
      "0  이 문서는 나라 목록이며, 전 세계 206개 나라의 각 현황과 주권 승인 정보를 개...         위키피디아  TODO   \n",
      "1  이 목록에 실린 국가 기준은 1933년 몬테비데오 협약 1장을 참고로 하였다. 협정...         위키피디아  TODO   \n",
      "2  현 서울특별시 종로구 서린동 (구 일제 강점기 경기도 경성부 서린정) 출신이다. 친...         위키피디아  TODO   \n",
      "3  아오조라 문고(靑空文庫, あおぞらぶんこ|아오조라 분고)는 ‘일본어판 구텐베르크 프로...         위키피디아  TODO   \n",
      "4  저자 사망 이후 50년이 지나 저작권이 소멸한 메이지 시대부터 쇼와 시대 초기까지의...         위키피디아  TODO   \n",
      "\n",
      "   domain    title  author  html  document_id  \n",
      "0     NaN    나라 목록     NaN   NaN            0  \n",
      "1     NaN    나라 목록     NaN   NaN            1  \n",
      "2     NaN      백남준     NaN   NaN            2  \n",
      "3     NaN  아오조라 문고     NaN   NaN            3  \n",
      "4     NaN  아오조라 문고     NaN   NaN            4  \n"
     ]
    }
   ],
   "source": [
    "import pandas as pd\n",
    "\n",
    "wiki = pd.read_json('/data/ephemeral/home/sungeun/level2-mrc-nlp-13/code/data/wikipedia_documents.json',orient='index')\n",
    "wiki_df = pd.DataFrame(wiki)\n",
    "print(wiki_df.head())"
   ]
  },
  {
   "cell_type": "markdown",
   "metadata": {},
   "source": [
    "# train, valid data"
   ]
  },
  {
   "cell_type": "markdown",
   "metadata": {},
   "source": [
    "## notice\n",
    "- train 3952개\n",
    "- valid 240개"
   ]
  },
  {
   "cell_type": "code",
   "execution_count": 2,
   "metadata": {},
   "outputs": [],
   "source": [
    "from datasets import load_from_disk, load_dataset\n",
    "import pandas as pd\n",
    "import numpy as np\n",
    "import matplotlib.pyplot as plt\n",
    "import seaborn as sns\n",
    "from tqdm import tqdm\n",
    "\n",
    "import matplotlib.font_manager as fm\n",
    "\n",
    "import warnings\n",
    "warnings.filterwarnings(action='ignore')"
   ]
  },
  {
   "cell_type": "code",
   "execution_count": 3,
   "metadata": {},
   "outputs": [],
   "source": [
    "mrc_datasets = load_from_disk('/data/ephemeral/home/sungeun/level2-mrc-nlp-13/code/data/train_dataset')\n",
    "\n",
    "mrc_train_dataset = mrc_datasets['train']\n",
    "mrc_valid_dataset = mrc_datasets['validation']"
   ]
  },
  {
   "cell_type": "code",
   "execution_count": 6,
   "metadata": {},
   "outputs": [
    {
     "data": {
      "text/plain": [
       "{'title': '미국 상원',\n",
       " 'context': '미국 상의원 또는 미국 상원(United States Senate)은 양원제인 미국 의회의 상원이다.\\\\n\\\\n미국 부통령이 상원의장이 된다. 각 주당 2명의 상원의원이 선출되어 100명의 상원의원으로 구성되어 있다. 임기는 6년이며, 2년마다 50개주 중 1/3씩 상원의원을 새로 선출하여 연방에 보낸다.\\\\n\\\\n미국 상원은 미국 하원과는 다르게 미국 대통령을 수반으로 하는 미국 연방 행정부에 각종 동의를 하는 기관이다. 하원이 세금과 경제에 대한 권한, 대통령을 포함한 대다수의 공무원을 파면할 권한을 갖고 있는 국민을 대표하는 기관인 반면 상원은 미국의 주를 대표한다. 즉 캘리포니아주, 일리노이주 같이 주 정부와 주 의회를 대표하는 기관이다. 그로 인하여 군대의 파병, 관료의 임명에 대한 동의, 외국 조약에 대한 승인 등 신속을 요하는 권한은 모두 상원에게만 있다. 그리고 하원에 대한 견제 역할(하원의 법안을 거부할 권한 등)을 담당한다. 2년의 임기로 인하여 급진적일 수밖에 없는 하원은 지나치게 급진적인 법안을 만들기 쉽다. 대표적인 예로 건강보험 개혁 당시 하원이 미국 연방 행정부에게 퍼블릭 옵션(공공건강보험기관)의 조항이 있는 반면 상원의 경우 하원안이 지나치게 세금이 많이 든다는 이유로 퍼블릭 옵션 조항을 제외하고 비영리건강보험기관이나 보험회사가 담당하도록 한 것이다. 이 경우처럼 상원은 하원이나 내각책임제가 빠지기 쉬운 국가들의 국회처럼 걸핏하면 발생하는 의회의 비정상적인 사태를 방지하는 기관이다. 상원은 급박한 처리사항의 경우가 아니면 법안을 먼저 내는 경우가 드물고 하원이 만든 법안을 수정하여 다시 하원에 되돌려보낸다. 이러한 방식으로 단원제가 빠지기 쉬운 함정을 미리 방지하는 것이다.날짜=2017-02-05',\n",
       " 'question': '대통령을 포함한 미국의 행정부 견제권을 갖는 국가 기관은?',\n",
       " 'id': 'mrc-1-000067',\n",
       " 'answers': {'answer_start': [235], 'text': ['하원']},\n",
       " 'document_id': 18293,\n",
       " '__index_level_0__': 42}"
      ]
     },
     "execution_count": 6,
     "metadata": {},
     "output_type": "execute_result"
    }
   ],
   "source": [
    "mrc_train_dataset[0]"
   ]
  },
  {
   "cell_type": "code",
   "execution_count": 5,
   "metadata": {},
   "outputs": [
    {
     "data": {
      "text/plain": [
       "{'title': '전효숙',\n",
       " 'context': '순천여자고등학교 졸업, 1973년 이화여자대학교를 졸업하고 1975년 제17회 사법시험에 합격하여 판사로 임용되었고 대법원 재판연구관, 수원지법 부장판사, 사법연수원 교수, 특허법원 부장판사 등을 거쳐 능력을 인정받았다. 2003년 최종영 대법원장의 지명으로 헌법재판소 재판관을 역임하였다.\\\\n\\\\n경제민주화위원회(위원장 장하성이 소액주주들을 대표해 한보철강 부실대출에 책임이 있는 이철수 전 제일은행장 등 임원 4명을 상대로 제기한 손해배상청구소송에서 서울지방법원 민사합의17부는 1998년 7월 24일에 \"한보철강에 부실 대출하여 은행에 막대한 손해를 끼친 점이 인정된다\"며 \"원고가 배상을 청구한 400억원 전액을 은행에 배상하라\"고 하면서 부실 경영인에 대한 최초의 배상 판결을 했다. \\\\n\\\\n2004년 10월 신행정수도의건설을위한특별조치법 위헌 확인 소송에서 9인의 재판관 중 유일하게 각하 견해를 내었다. 소수의견에서 전효숙 재판관은 다수견해의 문제점을 지적하면서 관습헌법 법리를 부정하였다. 전효숙 재판관은 서울대학교 근대법학교육 백주년 기념관에서 열린 강연에서, 국회가 고도의 정치적인 사안을 정치로 풀기보다는 헌법재판소에 무조건 맡겨서 해결하려는 자세는 헌법재판소에게 부담스럽다며 소회를 밝힌 바 있다.',\n",
       " 'question': '처음으로 부실 경영인에 대한 보상 선고를 받은 회사는?',\n",
       " 'id': 'mrc-0-003264',\n",
       " 'answers': {'answer_start': [284], 'text': ['한보철강']},\n",
       " 'document_id': 9027,\n",
       " '__index_level_0__': 2146}"
      ]
     },
     "execution_count": 5,
     "metadata": {},
     "output_type": "execute_result"
    }
   ],
   "source": [
    "mrc_valid_dataset[0]"
   ]
  },
  {
   "cell_type": "markdown",
   "metadata": {},
   "source": [
    "## dataframe"
   ]
  },
  {
   "cell_type": "markdown",
   "metadata": {},
   "source": [
    "### train data"
   ]
  },
  {
   "cell_type": "code",
   "execution_count": 12,
   "metadata": {},
   "outputs": [],
   "source": [
    "_id = [] \n",
    "doc_id = []\n",
    "title = []\n",
    "context = []\n",
    "question = []\n",
    "answer = []\n",
    "answer_start = []\n",
    "answer_len = []\n",
    "question_len = []\n",
    "context_len = []\n",
    "\n",
    "for train_data in mrc_train_dataset:\n",
    "    _id.append(train_data['id'])\n",
    "    doc_id.append(train_data['document_id'])\n",
    "    title.append(train_data['title'])\n",
    "    context.append(train_data['context'])\n",
    "    question.append(train_data['question'])\n",
    "    answer.append(train_data['answers']['text'][0])\n",
    "    context_len.append(len(train_data['context']))\n",
    "    question_len.append(len(train_data['question']))\n",
    "    #answer_len.append(answer_len_f(train_data['answers']['text']))\n",
    "    answer_len.append(len(train_data['answers']['text'][0]))\n",
    "    answer_start.append(train_data['answers']['answer_start'][0])\n",
    "    \n",
    "train_dict = {\n",
    "    \"id\":_id,\n",
    "    \"doc_id\":doc_id,\n",
    "    \"title\":title,\n",
    "    \"context\":context,\n",
    "    \"question\":question,\n",
    "    \"answer\":answer,\n",
    "    \"context_len\":context_len,\n",
    "    \"question_len\":question_len,\n",
    "    \"answer_len\":answer_len,\n",
    "    \"answer_start\":answer_start,\n",
    "}\n",
    "\n",
    "train_df = pd.DataFrame(train_dict)"
   ]
  },
  {
   "cell_type": "code",
   "execution_count": 13,
   "metadata": {},
   "outputs": [
    {
     "name": "stdout",
     "output_type": "stream",
     "text": [
      "<class 'pandas.core.frame.DataFrame'>\n",
      "RangeIndex: 3952 entries, 0 to 3951\n",
      "Data columns (total 10 columns):\n",
      " #   Column        Non-Null Count  Dtype \n",
      "---  ------        --------------  ----- \n",
      " 0   id            3952 non-null   object\n",
      " 1   doc_id        3952 non-null   int64 \n",
      " 2   title         3952 non-null   object\n",
      " 3   context       3952 non-null   object\n",
      " 4   question      3952 non-null   object\n",
      " 5   answer        3952 non-null   object\n",
      " 6   context_len   3952 non-null   int64 \n",
      " 7   question_len  3952 non-null   int64 \n",
      " 8   answer_len    3952 non-null   int64 \n",
      " 9   answer_start  3952 non-null   int64 \n",
      "dtypes: int64(5), object(5)\n",
      "memory usage: 308.9+ KB\n"
     ]
    }
   ],
   "source": [
    "train_df.info()"
   ]
  },
  {
   "cell_type": "code",
   "execution_count": 9,
   "metadata": {},
   "outputs": [
    {
     "data": {
      "text/html": [
       "<div>\n",
       "<style scoped>\n",
       "    .dataframe tbody tr th:only-of-type {\n",
       "        vertical-align: middle;\n",
       "    }\n",
       "\n",
       "    .dataframe tbody tr th {\n",
       "        vertical-align: top;\n",
       "    }\n",
       "\n",
       "    .dataframe thead th {\n",
       "        text-align: right;\n",
       "    }\n",
       "</style>\n",
       "<table border=\"1\" class=\"dataframe\">\n",
       "  <thead>\n",
       "    <tr style=\"text-align: right;\">\n",
       "      <th></th>\n",
       "      <th>id</th>\n",
       "      <th>doc_id</th>\n",
       "      <th>title</th>\n",
       "      <th>context</th>\n",
       "      <th>question</th>\n",
       "      <th>answer</th>\n",
       "      <th>context_len</th>\n",
       "      <th>question_len</th>\n",
       "      <th>answer_len</th>\n",
       "      <th>answer_start</th>\n",
       "    </tr>\n",
       "  </thead>\n",
       "  <tbody>\n",
       "    <tr>\n",
       "      <th>0</th>\n",
       "      <td>mrc-1-000067</td>\n",
       "      <td>18293</td>\n",
       "      <td>미국 상원</td>\n",
       "      <td>미국 상의원 또는 미국 상원(United States Senate)은 양원제인 미국...</td>\n",
       "      <td>대통령을 포함한 미국의 행정부 견제권을 갖는 국가 기관은?</td>\n",
       "      <td>하원</td>\n",
       "      <td>862</td>\n",
       "      <td>32</td>\n",
       "      <td>2</td>\n",
       "      <td>235</td>\n",
       "    </tr>\n",
       "    <tr>\n",
       "      <th>1</th>\n",
       "      <td>mrc-0-004397</td>\n",
       "      <td>51638</td>\n",
       "      <td>인사조직관리</td>\n",
       "      <td>'근대적 경영학' 또는 '고전적 경영학'에서 현대적 경영학으로 전환되는 시기는 19...</td>\n",
       "      <td>현대적 인사조직관리의 시발점이 된 책은?</td>\n",
       "      <td>《경영의 실제》</td>\n",
       "      <td>621</td>\n",
       "      <td>22</td>\n",
       "      <td>8</td>\n",
       "      <td>212</td>\n",
       "    </tr>\n",
       "    <tr>\n",
       "      <th>2</th>\n",
       "      <td>mrc-1-000362</td>\n",
       "      <td>5028</td>\n",
       "      <td>강희제</td>\n",
       "      <td>강희제는 강화된 황권으로 거의 황제 중심의 독단적으로 나라를 이끌어 갔기에 자칫 전...</td>\n",
       "      <td>강희제가 1717년에 쓴 글은 누구를 위해 쓰여졌는가?</td>\n",
       "      <td>백성</td>\n",
       "      <td>850</td>\n",
       "      <td>30</td>\n",
       "      <td>2</td>\n",
       "      <td>510</td>\n",
       "    </tr>\n",
       "  </tbody>\n",
       "</table>\n",
       "</div>"
      ],
      "text/plain": [
       "             id  doc_id   title  \\\n",
       "0  mrc-1-000067   18293   미국 상원   \n",
       "1  mrc-0-004397   51638  인사조직관리   \n",
       "2  mrc-1-000362    5028     강희제   \n",
       "\n",
       "                                             context  \\\n",
       "0  미국 상의원 또는 미국 상원(United States Senate)은 양원제인 미국...   \n",
       "1  '근대적 경영학' 또는 '고전적 경영학'에서 현대적 경영학으로 전환되는 시기는 19...   \n",
       "2  강희제는 강화된 황권으로 거의 황제 중심의 독단적으로 나라를 이끌어 갔기에 자칫 전...   \n",
       "\n",
       "                           question    answer  context_len  question_len  \\\n",
       "0  대통령을 포함한 미국의 행정부 견제권을 갖는 국가 기관은?        하원          862            32   \n",
       "1            현대적 인사조직관리의 시발점이 된 책은?  《경영의 실제》          621            22   \n",
       "2    강희제가 1717년에 쓴 글은 누구를 위해 쓰여졌는가?        백성          850            30   \n",
       "\n",
       "   answer_len  answer_start  \n",
       "0           2           235  \n",
       "1           8           212  \n",
       "2           2           510  "
      ]
     },
     "execution_count": 9,
     "metadata": {},
     "output_type": "execute_result"
    }
   ],
   "source": [
    "train_df.head(3)"
   ]
  },
  {
   "cell_type": "code",
   "execution_count": 20,
   "metadata": {},
   "outputs": [
    {
     "data": {
      "text/plain": [
       "3952"
      ]
     },
     "execution_count": 20,
     "metadata": {},
     "output_type": "execute_result"
    }
   ],
   "source": [
    "len(train_df) # 3952개"
   ]
  },
  {
   "cell_type": "markdown",
   "metadata": {},
   "source": [
    "### valid data"
   ]
  },
  {
   "cell_type": "code",
   "execution_count": 14,
   "metadata": {},
   "outputs": [],
   "source": [
    "_id = []\n",
    "doc_id = []\n",
    "title = []\n",
    "context = []\n",
    "question = []\n",
    "answer = []\n",
    "answer_start = []\n",
    "answer_len = []\n",
    "question_len = []\n",
    "context_len = []\n",
    "\n",
    "for valid_data in mrc_valid_dataset:\n",
    "    _id.append(valid_data['id'])\n",
    "    doc_id.append(valid_data['document_id'])\n",
    "    title.append(valid_data['title'])\n",
    "    context.append(valid_data['context'])\n",
    "    question.append(valid_data['question'])\n",
    "    answer.append(valid_data['answers']['text'][0])\n",
    "    context_len.append(len(valid_data['context']))\n",
    "    question_len.append(len(valid_data['question']))\n",
    "    #answer_len.append(answer_len_f(valid_data['answers']['text']))\n",
    "    answer_len.append(len(valid_data['answers']['text'][0]))\n",
    "    answer_start.append(valid_data['answers']['answer_start'][0])\n",
    "    \n",
    "valid_dict = {\n",
    "    \"id\":_id,\n",
    "    \"doc_id\":doc_id,\n",
    "    \"title\":title,\n",
    "    \"context\":context,\n",
    "    \"question\":question,\n",
    "    \"answer\":answer,\n",
    "    \"context_len\":context_len,\n",
    "    \"question_len\":question_len,\n",
    "    \"answer_len\":answer_len,\n",
    "    \"answer_start\":answer_start,\n",
    "}\n",
    "\n",
    "valid_df = pd.DataFrame(valid_dict)"
   ]
  },
  {
   "cell_type": "code",
   "execution_count": 15,
   "metadata": {},
   "outputs": [
    {
     "name": "stdout",
     "output_type": "stream",
     "text": [
      "<class 'pandas.core.frame.DataFrame'>\n",
      "RangeIndex: 240 entries, 0 to 239\n",
      "Data columns (total 10 columns):\n",
      " #   Column        Non-Null Count  Dtype \n",
      "---  ------        --------------  ----- \n",
      " 0   id            240 non-null    object\n",
      " 1   doc_id        240 non-null    int64 \n",
      " 2   title         240 non-null    object\n",
      " 3   context       240 non-null    object\n",
      " 4   question      240 non-null    object\n",
      " 5   answer        240 non-null    object\n",
      " 6   context_len   240 non-null    int64 \n",
      " 7   question_len  240 non-null    int64 \n",
      " 8   answer_len    240 non-null    int64 \n",
      " 9   answer_start  240 non-null    int64 \n",
      "dtypes: int64(5), object(5)\n",
      "memory usage: 18.9+ KB\n"
     ]
    }
   ],
   "source": [
    "valid_df.info()"
   ]
  },
  {
   "cell_type": "code",
   "execution_count": 16,
   "metadata": {},
   "outputs": [
    {
     "data": {
      "text/html": [
       "<div>\n",
       "<style scoped>\n",
       "    .dataframe tbody tr th:only-of-type {\n",
       "        vertical-align: middle;\n",
       "    }\n",
       "\n",
       "    .dataframe tbody tr th {\n",
       "        vertical-align: top;\n",
       "    }\n",
       "\n",
       "    .dataframe thead th {\n",
       "        text-align: right;\n",
       "    }\n",
       "</style>\n",
       "<table border=\"1\" class=\"dataframe\">\n",
       "  <thead>\n",
       "    <tr style=\"text-align: right;\">\n",
       "      <th></th>\n",
       "      <th>id</th>\n",
       "      <th>doc_id</th>\n",
       "      <th>title</th>\n",
       "      <th>context</th>\n",
       "      <th>question</th>\n",
       "      <th>answer</th>\n",
       "      <th>context_len</th>\n",
       "      <th>question_len</th>\n",
       "      <th>answer_len</th>\n",
       "      <th>answer_start</th>\n",
       "    </tr>\n",
       "  </thead>\n",
       "  <tbody>\n",
       "    <tr>\n",
       "      <th>0</th>\n",
       "      <td>mrc-0-003264</td>\n",
       "      <td>9027</td>\n",
       "      <td>전효숙</td>\n",
       "      <td>순천여자고등학교 졸업, 1973년 이화여자대학교를 졸업하고 1975년 제17회 사법...</td>\n",
       "      <td>처음으로 부실 경영인에 대한 보상 선고를 받은 회사는?</td>\n",
       "      <td>한보철강</td>\n",
       "      <td>625</td>\n",
       "      <td>30</td>\n",
       "      <td>4</td>\n",
       "      <td>284</td>\n",
       "    </tr>\n",
       "    <tr>\n",
       "      <th>1</th>\n",
       "      <td>mrc-0-004762</td>\n",
       "      <td>51765</td>\n",
       "      <td>스토우빌선</td>\n",
       "      <td>요크 카운티 동쪽에 처음으로 여객 열차 운행이 시작한 시점은 1868년 토론토 &amp; ...</td>\n",
       "      <td>스카버러 남쪽과 코보콘그 마을의 철도 노선이 처음 연장된 연도는?</td>\n",
       "      <td>1871년</td>\n",
       "      <td>964</td>\n",
       "      <td>36</td>\n",
       "      <td>5</td>\n",
       "      <td>146</td>\n",
       "    </tr>\n",
       "    <tr>\n",
       "      <th>2</th>\n",
       "      <td>mrc-1-001810</td>\n",
       "      <td>15694</td>\n",
       "      <td>촐라</td>\n",
       "      <td>촐라 정부\\n 촐라의 정부 체제는 전제군주제였으며,2001 촐라의 군주는 절대적인 ...</td>\n",
       "      <td>촌락에서 운영 위원 후보자 이름을 쓰기위해 사용된 것은?</td>\n",
       "      <td>나뭇잎</td>\n",
       "      <td>611</td>\n",
       "      <td>31</td>\n",
       "      <td>3</td>\n",
       "      <td>517</td>\n",
       "    </tr>\n",
       "  </tbody>\n",
       "</table>\n",
       "</div>"
      ],
      "text/plain": [
       "             id  doc_id  title  \\\n",
       "0  mrc-0-003264    9027    전효숙   \n",
       "1  mrc-0-004762   51765  스토우빌선   \n",
       "2  mrc-1-001810   15694     촐라   \n",
       "\n",
       "                                             context  \\\n",
       "0  순천여자고등학교 졸업, 1973년 이화여자대학교를 졸업하고 1975년 제17회 사법...   \n",
       "1  요크 카운티 동쪽에 처음으로 여객 열차 운행이 시작한 시점은 1868년 토론토 & ...   \n",
       "2  촐라 정부\\n 촐라의 정부 체제는 전제군주제였으며,2001 촐라의 군주는 절대적인 ...   \n",
       "\n",
       "                               question answer  context_len  question_len  \\\n",
       "0        처음으로 부실 경영인에 대한 보상 선고를 받은 회사는?   한보철강          625            30   \n",
       "1  스카버러 남쪽과 코보콘그 마을의 철도 노선이 처음 연장된 연도는?  1871년          964            36   \n",
       "2       촌락에서 운영 위원 후보자 이름을 쓰기위해 사용된 것은?    나뭇잎          611            31   \n",
       "\n",
       "   answer_len  answer_start  \n",
       "0           4           284  \n",
       "1           5           146  \n",
       "2           3           517  "
      ]
     },
     "execution_count": 16,
     "metadata": {},
     "output_type": "execute_result"
    }
   ],
   "source": [
    "valid_df.head(3)"
   ]
  },
  {
   "cell_type": "code",
   "execution_count": 22,
   "metadata": {},
   "outputs": [
    {
     "data": {
      "text/plain": [
       "240"
      ]
     },
     "execution_count": 22,
     "metadata": {},
     "output_type": "execute_result"
    }
   ],
   "source": [
    "len(valid_df) # 240개"
   ]
  },
  {
   "cell_type": "code",
   "execution_count": 17,
   "metadata": {},
   "outputs": [
    {
     "data": {
      "text/html": [
       "<div>\n",
       "<style scoped>\n",
       "    .dataframe tbody tr th:only-of-type {\n",
       "        vertical-align: middle;\n",
       "    }\n",
       "\n",
       "    .dataframe tbody tr th {\n",
       "        vertical-align: top;\n",
       "    }\n",
       "\n",
       "    .dataframe thead th {\n",
       "        text-align: right;\n",
       "    }\n",
       "</style>\n",
       "<table border=\"1\" class=\"dataframe\">\n",
       "  <thead>\n",
       "    <tr style=\"text-align: right;\">\n",
       "      <th></th>\n",
       "      <th>id</th>\n",
       "      <th>doc_id</th>\n",
       "      <th>title</th>\n",
       "      <th>context</th>\n",
       "      <th>question</th>\n",
       "      <th>answer</th>\n",
       "      <th>context_len</th>\n",
       "      <th>question_len</th>\n",
       "      <th>answer_len</th>\n",
       "      <th>answer_start</th>\n",
       "    </tr>\n",
       "  </thead>\n",
       "  <tbody>\n",
       "    <tr>\n",
       "      <th>4189</th>\n",
       "      <td>mrc-0-003083</td>\n",
       "      <td>5326</td>\n",
       "      <td>윤치호</td>\n",
       "      <td>1940년 5월 1일 오전 창씨개명에 비협조적이라는 이유로 조선총독부 경무국에서 소...</td>\n",
       "      <td>창씨개명령의 시행일을 미루는 것을 수락한 인물은?</td>\n",
       "      <td>미나미 지로</td>\n",
       "      <td>1314</td>\n",
       "      <td>27</td>\n",
       "      <td>6</td>\n",
       "      <td>247</td>\n",
       "    </tr>\n",
       "    <tr>\n",
       "      <th>4190</th>\n",
       "      <td>mrc-0-002978</td>\n",
       "      <td>48575</td>\n",
       "      <td>신잉카국</td>\n",
       "      <td>빌카밤바 지역은 파차쿠티 황제 때 부터 잉카 제국에 속해있던 지역이었다. 스페인 군...</td>\n",
       "      <td>망코 잉카가 쿠스코를 되찾기 위해 마련한 군사는 총 몇 명인가?</td>\n",
       "      <td>200,000명</td>\n",
       "      <td>998</td>\n",
       "      <td>35</td>\n",
       "      <td>8</td>\n",
       "      <td>563</td>\n",
       "    </tr>\n",
       "    <tr>\n",
       "      <th>4191</th>\n",
       "      <td>mrc-1-000622</td>\n",
       "      <td>5761</td>\n",
       "      <td>레닌주의</td>\n",
       "      <td>사회주의 혁명은 오로지 선진노동자계급에 기초한 계급투쟁으로서 이루어질 수 있다고 주...</td>\n",
       "      <td>마르크스주의자들의 사상은?</td>\n",
       "      <td>공산주의</td>\n",
       "      <td>967</td>\n",
       "      <td>14</td>\n",
       "      <td>4</td>\n",
       "      <td>811</td>\n",
       "    </tr>\n",
       "  </tbody>\n",
       "</table>\n",
       "</div>"
      ],
      "text/plain": [
       "                id  doc_id title  \\\n",
       "4189  mrc-0-003083    5326   윤치호   \n",
       "4190  mrc-0-002978   48575  신잉카국   \n",
       "4191  mrc-1-000622    5761  레닌주의   \n",
       "\n",
       "                                                context  \\\n",
       "4189  1940년 5월 1일 오전 창씨개명에 비협조적이라는 이유로 조선총독부 경무국에서 소...   \n",
       "4190  빌카밤바 지역은 파차쿠티 황제 때 부터 잉카 제국에 속해있던 지역이었다. 스페인 군...   \n",
       "4191  사회주의 혁명은 오로지 선진노동자계급에 기초한 계급투쟁으로서 이루어질 수 있다고 주...   \n",
       "\n",
       "                                 question    answer  context_len  \\\n",
       "4189          창씨개명령의 시행일을 미루는 것을 수락한 인물은?    미나미 지로         1314   \n",
       "4190  망코 잉카가 쿠스코를 되찾기 위해 마련한 군사는 총 몇 명인가?  200,000명          998   \n",
       "4191                       마르크스주의자들의 사상은?      공산주의          967   \n",
       "\n",
       "      question_len  answer_len  answer_start  \n",
       "4189            27           6           247  \n",
       "4190            35           8           563  \n",
       "4191            14           4           811  "
      ]
     },
     "execution_count": 17,
     "metadata": {},
     "output_type": "execute_result"
    }
   ],
   "source": [
    "all_df = pd.concat([train_df,valid_df], ignore_index=True)\n",
    "all_df.tail(3)"
   ]
  },
  {
   "cell_type": "markdown",
   "metadata": {},
   "source": [
    "## doc id가 같은 것끼리 context도 같다."
   ]
  },
  {
   "cell_type": "code",
   "execution_count": 25,
   "metadata": {},
   "outputs": [
    {
     "data": {
      "text/html": [
       "<div>\n",
       "<style scoped>\n",
       "    .dataframe tbody tr th:only-of-type {\n",
       "        vertical-align: middle;\n",
       "    }\n",
       "\n",
       "    .dataframe tbody tr th {\n",
       "        vertical-align: top;\n",
       "    }\n",
       "\n",
       "    .dataframe thead th {\n",
       "        text-align: right;\n",
       "    }\n",
       "</style>\n",
       "<table border=\"1\" class=\"dataframe\">\n",
       "  <thead>\n",
       "    <tr style=\"text-align: right;\">\n",
       "      <th></th>\n",
       "      <th>doc_id</th>\n",
       "      <th>context</th>\n",
       "    </tr>\n",
       "  </thead>\n",
       "  <tbody>\n",
       "    <tr>\n",
       "      <th>0</th>\n",
       "      <td>18293</td>\n",
       "      <td>미국 상의원 또는 미국 상원(United States Senate)은 양원제인 미국...</td>\n",
       "    </tr>\n",
       "    <tr>\n",
       "      <th>1</th>\n",
       "      <td>51638</td>\n",
       "      <td>'근대적 경영학' 또는 '고전적 경영학'에서 현대적 경영학으로 전환되는 시기는 19...</td>\n",
       "    </tr>\n",
       "    <tr>\n",
       "      <th>2</th>\n",
       "      <td>5028</td>\n",
       "      <td>강희제는 강화된 황권으로 거의 황제 중심의 독단적으로 나라를 이끌어 갔기에 자칫 전...</td>\n",
       "    </tr>\n",
       "    <tr>\n",
       "      <th>3</th>\n",
       "      <td>34146</td>\n",
       "      <td>불상을 모시기 위해 나무나 돌, 쇠 등을 깎아 일반적인 건축물보다 작은 규모로 만든...</td>\n",
       "    </tr>\n",
       "    <tr>\n",
       "      <th>4</th>\n",
       "      <td>47334</td>\n",
       "      <td>동아대학교박물관에서 소장하고 있는 계사명 사리구는 총 4개의 용기로 구성된 조선후기...</td>\n",
       "    </tr>\n",
       "    <tr>\n",
       "      <th>...</th>\n",
       "      <td>...</td>\n",
       "      <td>...</td>\n",
       "    </tr>\n",
       "    <tr>\n",
       "      <th>4187</th>\n",
       "      <td>53265</td>\n",
       "      <td>연나라 군대의 사령관이 악의에서 기겁으로 교체되자, 전단은 스스로 신령의 계시를 받...</td>\n",
       "    </tr>\n",
       "    <tr>\n",
       "      <th>4188</th>\n",
       "      <td>12190</td>\n",
       "      <td>현재 우리가 볼 수 있는 티칼의 모습은 펜실베이니아 대학교와 과테말라 정부의 협조 ...</td>\n",
       "    </tr>\n",
       "    <tr>\n",
       "      <th>4189</th>\n",
       "      <td>5326</td>\n",
       "      <td>1940년 5월 1일 오전 창씨개명에 비협조적이라는 이유로 조선총독부 경무국에서 소...</td>\n",
       "    </tr>\n",
       "    <tr>\n",
       "      <th>4190</th>\n",
       "      <td>48575</td>\n",
       "      <td>빌카밤바 지역은 파차쿠티 황제 때 부터 잉카 제국에 속해있던 지역이었다. 스페인 군...</td>\n",
       "    </tr>\n",
       "    <tr>\n",
       "      <th>4191</th>\n",
       "      <td>5761</td>\n",
       "      <td>사회주의 혁명은 오로지 선진노동자계급에 기초한 계급투쟁으로서 이루어질 수 있다고 주...</td>\n",
       "    </tr>\n",
       "  </tbody>\n",
       "</table>\n",
       "<p>4192 rows × 2 columns</p>\n",
       "</div>"
      ],
      "text/plain": [
       "      doc_id                                            context\n",
       "0      18293  미국 상의원 또는 미국 상원(United States Senate)은 양원제인 미국...\n",
       "1      51638  '근대적 경영학' 또는 '고전적 경영학'에서 현대적 경영학으로 전환되는 시기는 19...\n",
       "2       5028  강희제는 강화된 황권으로 거의 황제 중심의 독단적으로 나라를 이끌어 갔기에 자칫 전...\n",
       "3      34146  불상을 모시기 위해 나무나 돌, 쇠 등을 깎아 일반적인 건축물보다 작은 규모로 만든...\n",
       "4      47334  동아대학교박물관에서 소장하고 있는 계사명 사리구는 총 4개의 용기로 구성된 조선후기...\n",
       "...      ...                                                ...\n",
       "4187   53265  연나라 군대의 사령관이 악의에서 기겁으로 교체되자, 전단은 스스로 신령의 계시를 받...\n",
       "4188   12190  현재 우리가 볼 수 있는 티칼의 모습은 펜실베이니아 대학교와 과테말라 정부의 협조 ...\n",
       "4189    5326  1940년 5월 1일 오전 창씨개명에 비협조적이라는 이유로 조선총독부 경무국에서 소...\n",
       "4190   48575  빌카밤바 지역은 파차쿠티 황제 때 부터 잉카 제국에 속해있던 지역이었다. 스페인 군...\n",
       "4191    5761  사회주의 혁명은 오로지 선진노동자계급에 기초한 계급투쟁으로서 이루어질 수 있다고 주...\n",
       "\n",
       "[4192 rows x 2 columns]"
      ]
     },
     "execution_count": 25,
     "metadata": {},
     "output_type": "execute_result"
    }
   ],
   "source": [
    "doc_context_df = all_df[['doc_id','context']]\n",
    "doc_context_df"
   ]
  },
  {
   "cell_type": "code",
   "execution_count": 26,
   "metadata": {},
   "outputs": [
    {
     "name": "stdout",
     "output_type": "stream",
     "text": [
      "1336\n",
      "1336\n",
      "1336\n"
     ]
    }
   ],
   "source": [
    "print(len(doc_context_df[doc_context_df.duplicated(['doc_id'],keep=False)])) # 중복되는 행의 개수가 1336개\n",
    "print(len(doc_context_df[doc_context_df.duplicated(['context'],keep=False)])) # 중복되는 행의 개수가 1336개\n",
    "print(len(doc_context_df[doc_context_df.duplicated(['doc_id','context'],keep=False)])) # 중복되는 행의 개수가 1336개"
   ]
  },
  {
   "cell_type": "markdown",
   "metadata": {},
   "source": [
    "## 중복에 관하여"
   ]
  },
  {
   "cell_type": "code",
   "execution_count": 33,
   "metadata": {},
   "outputs": [
    {
     "name": "stdout",
     "output_type": "stream",
     "text": [
      "------ train ------ \n",
      "중복 원본까지 - title: 1944\n",
      "중복되는 것만 - title: 1236\n",
      "중복 원본까지 - context: 1191\n",
      "중복되는 것만 - context: 612\n",
      "중복 원본까지 - question: 0\n",
      "중복되는 것만 - question: 0\n",
      "\n",
      "\n",
      "------ valid ------ \n",
      "중복 원본까지 - title: 24\n",
      "중복되는 것만 - title: 12\n",
      "중복 원본까지 - context: 10\n",
      "중복되는 것만 - context: 5\n",
      "중복 원본까지 - question: 0\n",
      "중복되는 것만 - question: 0\n",
      "\n",
      "\n",
      "------ all data ------ \n",
      "중복 원본까지 - title: 2152\n",
      "중복되는 것만 - title: 1368\n",
      "중복 원본까지 - context: 1336\n",
      "중복되는 것만 - context: 688\n",
      "중복 원본까지 - question: 0\n",
      "중복되는 것만 - question: 0\n"
     ]
    }
   ],
   "source": [
    "check_list = ['title', 'context', 'question']\n",
    "\n",
    "print('------ train ------ ')\n",
    "for check in check_list:\n",
    "    print(f'중복 원본까지 - {check}: {len(train_df[train_df.duplicated(check,keep=False)])}')\n",
    "    print(f'중복되는 것만 - {check}: {len(train_df[train_df.duplicated(check)])}')\n",
    "\n",
    "print('\\n\\n------ valid ------ ')\n",
    "for check in check_list:\n",
    "    print(f'중복 원본까지 - {check}: {len(valid_df[valid_df.duplicated(check,keep=False)])}')\n",
    "    print(f'중복되는 것만 - {check}: {len(valid_df[valid_df.duplicated(check)])}')\n",
    "    \n",
    "print('\\n\\n------ all data ------ ')\n",
    "for check in check_list:\n",
    "    print(f'중복 원본까지 - {check}: {len(all_df[all_df.duplicated(check,keep=False)])}')\n",
    "    print(f'중복되는 것만 - {check}: {len(all_df[all_df.duplicated(check)])}')"
   ]
  },
  {
   "cell_type": "markdown",
   "metadata": {},
   "source": [
    "#### < 분석 >\n",
    "\n",
    "ex) 이순신, 이순신, 세종대왕\n",
    "- 중복 원본까지: 3개\n",
    "- 중복되는 것만: \"이순신\" 1번\n",
    "\n",
    "train\n",
    "- title\n",
    "    - 총 1944개의 제목 중 1236개의 제목이 중복, 63.57%가 중복되었음을 의미\n",
    "    - 동일한 제목 여러 번 등장\n",
    "- context\n",
    "    - 문맥의 약 51.38%가 중복되었음\n",
    "\n",
    "- 같은 제목이 여러 번 반복"
   ]
  },
  {
   "cell_type": "code",
   "execution_count": 40,
   "metadata": {},
   "outputs": [
    {
     "name": "stdout",
     "output_type": "stream",
     "text": [
      "=====train======\n",
      "title\n",
      "윤치호            43\n",
      "장면             24\n",
      "여운형            23\n",
      "루트비히 비트겐슈타인    13\n",
      "데카메론의 줄거리      13\n",
      "근대             13\n",
      "강희제            11\n",
      "이오 (위성)        11\n",
      "미치류            11\n",
      "자유한국당          10\n",
      "Name: count, dtype: int64\n"
     ]
    }
   ],
   "source": [
    "print(\"=====train======\")\n",
    "train_most_common_title = train_df['title'].value_counts().head(10)\n",
    "print(train_most_common_title)"
   ]
  },
  {
   "cell_type": "code",
   "execution_count": 41,
   "metadata": {},
   "outputs": [
    {
     "name": "stdout",
     "output_type": "stream",
     "text": [
      "=====valid======\n",
      "title\n",
      "데카메론의 줄거리    2\n",
      "확증 편향        2\n",
      "버트런드 러셀      2\n",
      "티칼           2\n",
      "자수장          2\n",
      "송나라          2\n",
      "로마 군단        2\n",
      "김준연          2\n",
      "레닌주의         2\n",
      "교황 비오 11세    2\n",
      "Name: count, dtype: int64\n"
     ]
    }
   ],
   "source": [
    "print(\"=====valid======\")\n",
    "valid_most_common_title = valid_df['title'].value_counts().head(10)\n",
    "print(valid_most_common_title)"
   ]
  },
  {
   "cell_type": "code",
   "execution_count": 42,
   "metadata": {},
   "outputs": [
    {
     "name": "stdout",
     "output_type": "stream",
     "text": [
      "=====all======\n",
      "title\n",
      "윤치호            44\n",
      "장면             25\n",
      "여운형            24\n",
      "데카메론의 줄거리      15\n",
      "근대             13\n",
      "루트비히 비트겐슈타인    13\n",
      "강희제            11\n",
      "확증 편향          11\n",
      "박근혜 정부         11\n",
      "이오 (위성)        11\n",
      "Name: count, dtype: int64\n"
     ]
    }
   ],
   "source": [
    "print(\"=====all======\")\n",
    "all_most_common_title = all_df['title'].value_counts().head(10)\n",
    "print(all_most_common_title)"
   ]
  },
  {
   "cell_type": "markdown",
   "metadata": {},
   "source": [
    "## 길이에 관하여"
   ]
  },
  {
   "cell_type": "code",
   "execution_count": 30,
   "metadata": {},
   "outputs": [
    {
     "data": {
      "text/html": [
       "<div>\n",
       "<style scoped>\n",
       "    .dataframe tbody tr th:only-of-type {\n",
       "        vertical-align: middle;\n",
       "    }\n",
       "\n",
       "    .dataframe tbody tr th {\n",
       "        vertical-align: top;\n",
       "    }\n",
       "\n",
       "    .dataframe thead th {\n",
       "        text-align: right;\n",
       "    }\n",
       "</style>\n",
       "<table border=\"1\" class=\"dataframe\">\n",
       "  <thead>\n",
       "    <tr style=\"text-align: right;\">\n",
       "      <th></th>\n",
       "      <th>id</th>\n",
       "      <th>doc_id</th>\n",
       "      <th>title</th>\n",
       "      <th>context</th>\n",
       "      <th>question</th>\n",
       "      <th>answer</th>\n",
       "      <th>context_len</th>\n",
       "      <th>question_len</th>\n",
       "      <th>answer_len</th>\n",
       "      <th>answer_start</th>\n",
       "      <th>doc_type</th>\n",
       "    </tr>\n",
       "  </thead>\n",
       "  <tbody>\n",
       "    <tr>\n",
       "      <th>8381</th>\n",
       "      <td>mrc-0-003083</td>\n",
       "      <td>5326</td>\n",
       "      <td>윤치호</td>\n",
       "      <td>1940년 5월 1일 오전 창씨개명에 비협조적이라는 이유로 조선총독부 경무국에서 소...</td>\n",
       "      <td>창씨개명령의 시행일을 미루는 것을 수락한 인물은?</td>\n",
       "      <td>미나미 지로</td>\n",
       "      <td>1314</td>\n",
       "      <td>27</td>\n",
       "      <td>6</td>\n",
       "      <td>247</td>\n",
       "      <td>all</td>\n",
       "    </tr>\n",
       "    <tr>\n",
       "      <th>8382</th>\n",
       "      <td>mrc-0-002978</td>\n",
       "      <td>48575</td>\n",
       "      <td>신잉카국</td>\n",
       "      <td>빌카밤바 지역은 파차쿠티 황제 때 부터 잉카 제국에 속해있던 지역이었다. 스페인 군...</td>\n",
       "      <td>망코 잉카가 쿠스코를 되찾기 위해 마련한 군사는 총 몇 명인가?</td>\n",
       "      <td>200,000명</td>\n",
       "      <td>998</td>\n",
       "      <td>35</td>\n",
       "      <td>8</td>\n",
       "      <td>563</td>\n",
       "      <td>all</td>\n",
       "    </tr>\n",
       "    <tr>\n",
       "      <th>8383</th>\n",
       "      <td>mrc-1-000622</td>\n",
       "      <td>5761</td>\n",
       "      <td>레닌주의</td>\n",
       "      <td>사회주의 혁명은 오로지 선진노동자계급에 기초한 계급투쟁으로서 이루어질 수 있다고 주...</td>\n",
       "      <td>마르크스주의자들의 사상은?</td>\n",
       "      <td>공산주의</td>\n",
       "      <td>967</td>\n",
       "      <td>14</td>\n",
       "      <td>4</td>\n",
       "      <td>811</td>\n",
       "      <td>all</td>\n",
       "    </tr>\n",
       "  </tbody>\n",
       "</table>\n",
       "</div>"
      ],
      "text/plain": [
       "                id  doc_id title  \\\n",
       "8381  mrc-0-003083    5326   윤치호   \n",
       "8382  mrc-0-002978   48575  신잉카국   \n",
       "8383  mrc-1-000622    5761  레닌주의   \n",
       "\n",
       "                                                context  \\\n",
       "8381  1940년 5월 1일 오전 창씨개명에 비협조적이라는 이유로 조선총독부 경무국에서 소...   \n",
       "8382  빌카밤바 지역은 파차쿠티 황제 때 부터 잉카 제국에 속해있던 지역이었다. 스페인 군...   \n",
       "8383  사회주의 혁명은 오로지 선진노동자계급에 기초한 계급투쟁으로서 이루어질 수 있다고 주...   \n",
       "\n",
       "                                 question    answer  context_len  \\\n",
       "8381          창씨개명령의 시행일을 미루는 것을 수락한 인물은?    미나미 지로         1314   \n",
       "8382  망코 잉카가 쿠스코를 되찾기 위해 마련한 군사는 총 몇 명인가?  200,000명          998   \n",
       "8383                       마르크스주의자들의 사상은?      공산주의          967   \n",
       "\n",
       "      question_len  answer_len  answer_start doc_type  \n",
       "8381            27           6           247      all  \n",
       "8382            35           8           563      all  \n",
       "8383            14           4           811      all  "
      ]
     },
     "execution_count": 30,
     "metadata": {},
     "output_type": "execute_result"
    }
   ],
   "source": [
    "# 길이 비교를 위해 train, valid, all df 합치기\n",
    "train_df['doc_type']='train'\n",
    "valid_df['doc_type']='valid'\n",
    "all_df['doc_type']='all'\n",
    "concat3_df = pd.concat([train_df,valid_df,all_df], ignore_index=True)\n",
    "concat3_df.tail(3)"
   ]
  },
  {
   "cell_type": "code",
   "execution_count": 50,
   "metadata": {},
   "outputs": [],
   "source": [
    "def violinbox_len(type_len):\n",
    "    print('train data-----------------------------')\n",
    "    print('최댓값: ',train_df.describe()[type_len]['max'])\n",
    "    print('최솟값: ',train_df.describe()[type_len]['min'])\n",
    "    print('평균: ',train_df.describe()[type_len]['mean'])\n",
    "    print('\\nvalid data-----------------------------')\n",
    "    print('최댓값: ',valid_df.describe()[type_len]['max'])\n",
    "    print('최솟값: ',valid_df.describe()[type_len]['min'])\n",
    "    print('평균: ',valid_df.describe()[type_len]['mean'])\n",
    "    print('\\nall data(train+valid)------------------')\n",
    "    print('최댓값: ',all_df.describe()[type_len]['max'])\n",
    "    print('최솟값: ',all_df.describe()[type_len]['min'])\n",
    "    print('평균: ',all_df.describe()[type_len]['mean'])\n",
    "    print('\\n\\n')\n",
    "    fig, ax = plt.subplots(figsize=(16,9),nrows=2)\n",
    "    ax=sns.boxplot(data=concat3_df, x=type_len,y=\"doc_type\", # 박스 플롯\n",
    "                showmeans=True,\n",
    "                meanprops={\"marker\":\"o\",\n",
    "                           \"markerfacecolor\":\"white\", \n",
    "                           \"markeredgecolor\":\"black\",\n",
    "                          \"markersize\":\"5\"},\n",
    "                palette='coolwarm',\n",
    "                ax=ax[0])\n",
    "\n",
    "    ax.set(xlabel=None) # 위에 있는 plot xlabel 삭제\n",
    "\n",
    "    ax=sns.violinplot(data=concat3_df, x=type_len,y=\"doc_type\",palette='coolwarm') # 바이올릿 플롯\n",
    "    plt.show()"
   ]
  },
  {
   "cell_type": "markdown",
   "metadata": {},
   "source": [
    "### 1) Context"
   ]
  },
  {
   "cell_type": "code",
   "execution_count": 51,
   "metadata": {},
   "outputs": [
    {
     "name": "stdout",
     "output_type": "stream",
     "text": [
      "train data-----------------------------\n",
      "최댓값:  2059.0\n",
      "최솟값:  512.0\n",
      "평균:  920.2206477732793\n",
      "\n",
      "valid data-----------------------------\n",
      "최댓값:  2064.0\n",
      "최솟값:  517.0\n",
      "평균:  916.725\n",
      "\n",
      "all data(train+valid)------------------\n",
      "최댓값:  2064.0\n",
      "최솟값:  512.0\n",
      "평균:  920.0205152671756\n",
      "\n",
      "\n",
      "\n"
     ]
    },
    {
     "data": {
      "image/png": "[encoded data removed]",
      "text/plain": [
       "<Figure size 1600x900 with 2 Axes>"
      ]
     },
     "metadata": {},
     "output_type": "display_data"
    }
   ],
   "source": [
    "violinbox_len('context_len')"
   ]
  },
  {
   "cell_type": "markdown",
   "metadata": {},
   "source": [
    "### 2) Question"
   ]
  },
  {
   "cell_type": "code",
   "execution_count": 52,
   "metadata": {},
   "outputs": [
    {
     "name": "stdout",
     "output_type": "stream",
     "text": [
      "train data-----------------------------\n",
      "최댓값:  78.0\n",
      "최솟값:  8.0\n",
      "평균:  29.32236842105263\n",
      "\n",
      "valid data-----------------------------\n",
      "최댓값:  59.0\n",
      "최솟값:  9.0\n",
      "평균:  29.195833333333333\n",
      "\n",
      "all data(train+valid)------------------\n",
      "최댓값:  78.0\n",
      "최솟값:  8.0\n",
      "평균:  29.315124045801525\n",
      "\n",
      "\n",
      "\n"
     ]
    },
    {
     "data": {
      "image/png": "[encoded data removed]",
      "text/plain": [
       "<Figure size 1600x900 with 2 Axes>"
      ]
     },
     "metadata": {},
     "output_type": "display_data"
    }
   ],
   "source": [
    "violinbox_len('question_len')"
   ]
  },
  {
   "cell_type": "markdown",
   "metadata": {},
   "source": [
    "### 3) Answer"
   ]
  },
  {
   "cell_type": "code",
   "execution_count": 53,
   "metadata": {},
   "outputs": [
    {
     "name": "stdout",
     "output_type": "stream",
     "text": [
      "train data-----------------------------\n",
      "최댓값:  83.0\n",
      "최솟값:  1.0\n",
      "평균:  6.275050607287449\n",
      "\n",
      "valid data-----------------------------\n",
      "최댓값:  64.0\n",
      "최솟값:  1.0\n",
      "평균:  6.9125\n",
      "\n",
      "all data(train+valid)------------------\n",
      "최댓값:  83.0\n",
      "최솟값:  1.0\n",
      "평균:  6.311545801526718\n",
      "\n",
      "\n",
      "\n"
     ]
    },
    {
     "data": {
      "image/png": "[encoded data removed]",
      "text/plain": [
       "<Figure size 1600x900 with 2 Axes>"
      ]
     },
     "metadata": {},
     "output_type": "display_data"
    }
   ],
   "source": [
    "violinbox_len('answer_len')"
   ]
  },
  {
   "cell_type": "markdown",
   "metadata": {},
   "source": [
    "## Query문에 대해"
   ]
  },
  {
   "cell_type": "code",
   "execution_count": 59,
   "metadata": {},
   "outputs": [],
   "source": [
    "from transformers import AutoModel, AutoTokenizer, BertTokenizer"
   ]
  },
  {
   "cell_type": "code",
   "execution_count": 73,
   "metadata": {},
   "outputs": [
    {
     "name": "stderr",
     "output_type": "stream",
     "text": [
      "  0%|          | 0/3952 [00:00<?, ?it/s]"
     ]
    },
    {
     "name": "stderr",
     "output_type": "stream",
     "text": [
      "100%|██████████| 3952/3952 [00:00<00:00, 128077.28it/s]\n"
     ]
    }
   ],
   "source": [
    "query_train_dict = {}\n",
    "for i in tqdm(range(len(train_df))):\n",
    "    text = train_df['question'][i]\n",
    "    split_text = text.split()[-1]\n",
    "    try:\n",
    "        query_train_dict[split_text]+=1\n",
    "    except:\n",
    "        query_train_dict[split_text] = 1\n",
    "            \n",
    "query_train_df = pd.DataFrame(list(query_train_dict.items()), columns=['query','count'])\n",
    "query_train_df = query_train_df.sort_values('count',ascending=False)\n",
    "query_train_df = query_train_df.reset_index(drop=True)"
   ]
  },
  {
   "cell_type": "code",
   "execution_count": 79,
   "metadata": {},
   "outputs": [
    {
     "data": {
      "text/html": [
       "<div>\n",
       "<style scoped>\n",
       "    .dataframe tbody tr th:only-of-type {\n",
       "        vertical-align: middle;\n",
       "    }\n",
       "\n",
       "    .dataframe tbody tr th {\n",
       "        vertical-align: top;\n",
       "    }\n",
       "\n",
       "    .dataframe thead th {\n",
       "        text-align: right;\n",
       "    }\n",
       "</style>\n",
       "<table border=\"1\" class=\"dataframe\">\n",
       "  <thead>\n",
       "    <tr style=\"text-align: right;\">\n",
       "      <th></th>\n",
       "      <th>query</th>\n",
       "      <th>count</th>\n",
       "    </tr>\n",
       "  </thead>\n",
       "  <tbody>\n",
       "    <tr>\n",
       "      <th>0</th>\n",
       "      <td>사람은?</td>\n",
       "      <td>224</td>\n",
       "    </tr>\n",
       "    <tr>\n",
       "      <th>1</th>\n",
       "      <td>인물은?</td>\n",
       "      <td>207</td>\n",
       "    </tr>\n",
       "    <tr>\n",
       "      <th>2</th>\n",
       "      <td>것은?</td>\n",
       "      <td>187</td>\n",
       "    </tr>\n",
       "    <tr>\n",
       "      <th>3</th>\n",
       "      <td>무엇인가?</td>\n",
       "      <td>128</td>\n",
       "    </tr>\n",
       "    <tr>\n",
       "      <th>4</th>\n",
       "      <td>누구인가?</td>\n",
       "      <td>125</td>\n",
       "    </tr>\n",
       "    <tr>\n",
       "      <th>5</th>\n",
       "      <td>해는?</td>\n",
       "      <td>118</td>\n",
       "    </tr>\n",
       "    <tr>\n",
       "      <th>6</th>\n",
       "      <td>곳은?</td>\n",
       "      <td>115</td>\n",
       "    </tr>\n",
       "    <tr>\n",
       "      <th>7</th>\n",
       "      <td>이름은?</td>\n",
       "      <td>73</td>\n",
       "    </tr>\n",
       "    <tr>\n",
       "      <th>8</th>\n",
       "      <td>어디인가?</td>\n",
       "      <td>72</td>\n",
       "    </tr>\n",
       "    <tr>\n",
       "      <th>9</th>\n",
       "      <td>시기는?</td>\n",
       "      <td>44</td>\n",
       "    </tr>\n",
       "    <tr>\n",
       "      <th>10</th>\n",
       "      <td>무엇인가요?</td>\n",
       "      <td>41</td>\n",
       "    </tr>\n",
       "    <tr>\n",
       "      <th>11</th>\n",
       "      <td>언제인가?</td>\n",
       "      <td>38</td>\n",
       "    </tr>\n",
       "    <tr>\n",
       "      <th>12</th>\n",
       "      <td>나라는?</td>\n",
       "      <td>37</td>\n",
       "    </tr>\n",
       "    <tr>\n",
       "      <th>13</th>\n",
       "      <td>국가는?</td>\n",
       "      <td>36</td>\n",
       "    </tr>\n",
       "    <tr>\n",
       "      <th>14</th>\n",
       "      <td>연도는?</td>\n",
       "      <td>36</td>\n",
       "    </tr>\n",
       "    <tr>\n",
       "      <th>15</th>\n",
       "      <td>이유는?</td>\n",
       "      <td>32</td>\n",
       "    </tr>\n",
       "    <tr>\n",
       "      <th>16</th>\n",
       "      <td>하는가?</td>\n",
       "      <td>30</td>\n",
       "    </tr>\n",
       "    <tr>\n",
       "      <th>17</th>\n",
       "      <td>년도는?</td>\n",
       "      <td>28</td>\n",
       "    </tr>\n",
       "    <tr>\n",
       "      <th>18</th>\n",
       "      <td>지역은?</td>\n",
       "      <td>28</td>\n",
       "    </tr>\n",
       "    <tr>\n",
       "      <th>19</th>\n",
       "      <td>있는가?</td>\n",
       "      <td>25</td>\n",
       "    </tr>\n",
       "  </tbody>\n",
       "</table>\n",
       "</div>"
      ],
      "text/plain": [
       "     query  count\n",
       "0     사람은?    224\n",
       "1     인물은?    207\n",
       "2      것은?    187\n",
       "3    무엇인가?    128\n",
       "4    누구인가?    125\n",
       "5      해는?    118\n",
       "6      곳은?    115\n",
       "7     이름은?     73\n",
       "8    어디인가?     72\n",
       "9     시기는?     44\n",
       "10  무엇인가요?     41\n",
       "11   언제인가?     38\n",
       "12    나라는?     37\n",
       "13    국가는?     36\n",
       "14    연도는?     36\n",
       "15    이유는?     32\n",
       "16    하는가?     30\n",
       "17    년도는?     28\n",
       "18    지역은?     28\n",
       "19    있는가?     25"
      ]
     },
     "execution_count": 79,
     "metadata": {},
     "output_type": "execute_result"
    }
   ],
   "source": [
    "query_train_df.head(20)"
   ]
  },
  {
   "cell_type": "code",
   "execution_count": 74,
   "metadata": {},
   "outputs": [
    {
     "name": "stderr",
     "output_type": "stream",
     "text": [
      "100%|██████████| 240/240 [00:00<00:00, 118177.15it/s]\n"
     ]
    }
   ],
   "source": [
    "query_valid_dict = {}\n",
    "for i in tqdm(range(len(valid_df))):\n",
    "    text = valid_df['question'][i]\n",
    "    split_text = text.split()[-1]\n",
    "    try:\n",
    "        query_valid_dict[split_text]+=1\n",
    "    except:\n",
    "        query_valid_dict[split_text] = 1\n",
    "            \n",
    "query_valid_df = pd.DataFrame(list(query_valid_dict.items()), columns=['query','count'])\n",
    "query_valid_df = query_valid_df.sort_values('count',ascending=False)\n",
    "query_valid_df = query_valid_df.reset_index(drop=True)"
   ]
  },
  {
   "cell_type": "code",
   "execution_count": 80,
   "metadata": {},
   "outputs": [
    {
     "data": {
      "text/html": [
       "<div>\n",
       "<style scoped>\n",
       "    .dataframe tbody tr th:only-of-type {\n",
       "        vertical-align: middle;\n",
       "    }\n",
       "\n",
       "    .dataframe tbody tr th {\n",
       "        vertical-align: top;\n",
       "    }\n",
       "\n",
       "    .dataframe thead th {\n",
       "        text-align: right;\n",
       "    }\n",
       "</style>\n",
       "<table border=\"1\" class=\"dataframe\">\n",
       "  <thead>\n",
       "    <tr style=\"text-align: right;\">\n",
       "      <th></th>\n",
       "      <th>query</th>\n",
       "      <th>count</th>\n",
       "    </tr>\n",
       "  </thead>\n",
       "  <tbody>\n",
       "    <tr>\n",
       "      <th>0</th>\n",
       "      <td>것은?</td>\n",
       "      <td>18</td>\n",
       "    </tr>\n",
       "    <tr>\n",
       "      <th>1</th>\n",
       "      <td>누구인가?</td>\n",
       "      <td>9</td>\n",
       "    </tr>\n",
       "    <tr>\n",
       "      <th>2</th>\n",
       "      <td>사람은?</td>\n",
       "      <td>9</td>\n",
       "    </tr>\n",
       "    <tr>\n",
       "      <th>3</th>\n",
       "      <td>인물은?</td>\n",
       "      <td>9</td>\n",
       "    </tr>\n",
       "    <tr>\n",
       "      <th>4</th>\n",
       "      <td>무엇인가?</td>\n",
       "      <td>8</td>\n",
       "    </tr>\n",
       "    <tr>\n",
       "      <th>5</th>\n",
       "      <td>어디인가?</td>\n",
       "      <td>7</td>\n",
       "    </tr>\n",
       "    <tr>\n",
       "      <th>6</th>\n",
       "      <td>곳은?</td>\n",
       "      <td>7</td>\n",
       "    </tr>\n",
       "    <tr>\n",
       "      <th>7</th>\n",
       "      <td>이름은?</td>\n",
       "      <td>5</td>\n",
       "    </tr>\n",
       "    <tr>\n",
       "      <th>8</th>\n",
       "      <td>방법은?</td>\n",
       "      <td>4</td>\n",
       "    </tr>\n",
       "    <tr>\n",
       "      <th>9</th>\n",
       "      <td>해는?</td>\n",
       "      <td>4</td>\n",
       "    </tr>\n",
       "    <tr>\n",
       "      <th>10</th>\n",
       "      <td>시기는?</td>\n",
       "      <td>4</td>\n",
       "    </tr>\n",
       "    <tr>\n",
       "      <th>11</th>\n",
       "      <td>기간은?</td>\n",
       "      <td>3</td>\n",
       "    </tr>\n",
       "    <tr>\n",
       "      <th>12</th>\n",
       "      <td>연도는?</td>\n",
       "      <td>3</td>\n",
       "    </tr>\n",
       "    <tr>\n",
       "      <th>13</th>\n",
       "      <td>때문인가?</td>\n",
       "      <td>3</td>\n",
       "    </tr>\n",
       "    <tr>\n",
       "      <th>14</th>\n",
       "      <td>있나?</td>\n",
       "      <td>3</td>\n",
       "    </tr>\n",
       "    <tr>\n",
       "      <th>15</th>\n",
       "      <td>방식은?</td>\n",
       "      <td>2</td>\n",
       "    </tr>\n",
       "    <tr>\n",
       "      <th>16</th>\n",
       "      <td>종교는?</td>\n",
       "      <td>2</td>\n",
       "    </tr>\n",
       "    <tr>\n",
       "      <th>17</th>\n",
       "      <td>있는가?</td>\n",
       "      <td>2</td>\n",
       "    </tr>\n",
       "    <tr>\n",
       "      <th>18</th>\n",
       "      <td>지역은?</td>\n",
       "      <td>2</td>\n",
       "    </tr>\n",
       "    <tr>\n",
       "      <th>19</th>\n",
       "      <td>기술은?</td>\n",
       "      <td>2</td>\n",
       "    </tr>\n",
       "  </tbody>\n",
       "</table>\n",
       "</div>"
      ],
      "text/plain": [
       "    query  count\n",
       "0     것은?     18\n",
       "1   누구인가?      9\n",
       "2    사람은?      9\n",
       "3    인물은?      9\n",
       "4   무엇인가?      8\n",
       "5   어디인가?      7\n",
       "6     곳은?      7\n",
       "7    이름은?      5\n",
       "8    방법은?      4\n",
       "9     해는?      4\n",
       "10   시기는?      4\n",
       "11   기간은?      3\n",
       "12   연도는?      3\n",
       "13  때문인가?      3\n",
       "14    있나?      3\n",
       "15   방식은?      2\n",
       "16   종교는?      2\n",
       "17   있는가?      2\n",
       "18   지역은?      2\n",
       "19   기술은?      2"
      ]
     },
     "execution_count": 80,
     "metadata": {},
     "output_type": "execute_result"
    }
   ],
   "source": [
    "query_valid_df.head(20)"
   ]
  },
  {
   "cell_type": "code",
   "execution_count": 75,
   "metadata": {},
   "outputs": [
    {
     "name": "stderr",
     "output_type": "stream",
     "text": [
      "100%|██████████| 4192/4192 [00:00<00:00, 127572.28it/s]\n"
     ]
    }
   ],
   "source": [
    "query_all_dict = {}\n",
    "for i in tqdm(range(len(all_df))):\n",
    "    text = all_df['question'][i]\n",
    "    split_text = text.split()[-1]\n",
    "    try:\n",
    "        query_all_dict[split_text]+=1\n",
    "    except:\n",
    "        query_all_dict[split_text] = 1\n",
    "            \n",
    "query_all_df = pd.DataFrame(list(query_all_dict.items()), columns=['query','count'])\n",
    "query_all_df = query_all_df.sort_values('count',ascending=False)\n",
    "query_all_df = query_all_df.reset_index(drop=True)"
   ]
  },
  {
   "cell_type": "code",
   "execution_count": 81,
   "metadata": {},
   "outputs": [
    {
     "data": {
      "text/html": [
       "<div>\n",
       "<style scoped>\n",
       "    .dataframe tbody tr th:only-of-type {\n",
       "        vertical-align: middle;\n",
       "    }\n",
       "\n",
       "    .dataframe tbody tr th {\n",
       "        vertical-align: top;\n",
       "    }\n",
       "\n",
       "    .dataframe thead th {\n",
       "        text-align: right;\n",
       "    }\n",
       "</style>\n",
       "<table border=\"1\" class=\"dataframe\">\n",
       "  <thead>\n",
       "    <tr style=\"text-align: right;\">\n",
       "      <th></th>\n",
       "      <th>query</th>\n",
       "      <th>count</th>\n",
       "    </tr>\n",
       "  </thead>\n",
       "  <tbody>\n",
       "    <tr>\n",
       "      <th>0</th>\n",
       "      <td>사람은?</td>\n",
       "      <td>233</td>\n",
       "    </tr>\n",
       "    <tr>\n",
       "      <th>1</th>\n",
       "      <td>인물은?</td>\n",
       "      <td>216</td>\n",
       "    </tr>\n",
       "    <tr>\n",
       "      <th>2</th>\n",
       "      <td>것은?</td>\n",
       "      <td>205</td>\n",
       "    </tr>\n",
       "    <tr>\n",
       "      <th>3</th>\n",
       "      <td>무엇인가?</td>\n",
       "      <td>136</td>\n",
       "    </tr>\n",
       "    <tr>\n",
       "      <th>4</th>\n",
       "      <td>누구인가?</td>\n",
       "      <td>134</td>\n",
       "    </tr>\n",
       "    <tr>\n",
       "      <th>5</th>\n",
       "      <td>해는?</td>\n",
       "      <td>122</td>\n",
       "    </tr>\n",
       "    <tr>\n",
       "      <th>6</th>\n",
       "      <td>곳은?</td>\n",
       "      <td>122</td>\n",
       "    </tr>\n",
       "    <tr>\n",
       "      <th>7</th>\n",
       "      <td>어디인가?</td>\n",
       "      <td>79</td>\n",
       "    </tr>\n",
       "    <tr>\n",
       "      <th>8</th>\n",
       "      <td>이름은?</td>\n",
       "      <td>78</td>\n",
       "    </tr>\n",
       "    <tr>\n",
       "      <th>9</th>\n",
       "      <td>시기는?</td>\n",
       "      <td>48</td>\n",
       "    </tr>\n",
       "    <tr>\n",
       "      <th>10</th>\n",
       "      <td>무엇인가요?</td>\n",
       "      <td>42</td>\n",
       "    </tr>\n",
       "    <tr>\n",
       "      <th>11</th>\n",
       "      <td>언제인가?</td>\n",
       "      <td>40</td>\n",
       "    </tr>\n",
       "    <tr>\n",
       "      <th>12</th>\n",
       "      <td>연도는?</td>\n",
       "      <td>39</td>\n",
       "    </tr>\n",
       "    <tr>\n",
       "      <th>13</th>\n",
       "      <td>나라는?</td>\n",
       "      <td>37</td>\n",
       "    </tr>\n",
       "    <tr>\n",
       "      <th>14</th>\n",
       "      <td>국가는?</td>\n",
       "      <td>37</td>\n",
       "    </tr>\n",
       "    <tr>\n",
       "      <th>15</th>\n",
       "      <td>이유는?</td>\n",
       "      <td>34</td>\n",
       "    </tr>\n",
       "    <tr>\n",
       "      <th>16</th>\n",
       "      <td>하는가?</td>\n",
       "      <td>31</td>\n",
       "    </tr>\n",
       "    <tr>\n",
       "      <th>17</th>\n",
       "      <td>지역은?</td>\n",
       "      <td>30</td>\n",
       "    </tr>\n",
       "    <tr>\n",
       "      <th>18</th>\n",
       "      <td>년도는?</td>\n",
       "      <td>29</td>\n",
       "    </tr>\n",
       "    <tr>\n",
       "      <th>19</th>\n",
       "      <td>있는가?</td>\n",
       "      <td>27</td>\n",
       "    </tr>\n",
       "  </tbody>\n",
       "</table>\n",
       "</div>"
      ],
      "text/plain": [
       "     query  count\n",
       "0     사람은?    233\n",
       "1     인물은?    216\n",
       "2      것은?    205\n",
       "3    무엇인가?    136\n",
       "4    누구인가?    134\n",
       "5      해는?    122\n",
       "6      곳은?    122\n",
       "7    어디인가?     79\n",
       "8     이름은?     78\n",
       "9     시기는?     48\n",
       "10  무엇인가요?     42\n",
       "11   언제인가?     40\n",
       "12    연도는?     39\n",
       "13    나라는?     37\n",
       "14    국가는?     37\n",
       "15    이유는?     34\n",
       "16    하는가?     31\n",
       "17    지역은?     30\n",
       "18    년도는?     29\n",
       "19    있는가?     27"
      ]
     },
     "execution_count": 81,
     "metadata": {},
     "output_type": "execute_result"
    }
   ],
   "source": [
    "query_all_df.head(20)"
   ]
  },
  {
   "cell_type": "code",
   "execution_count": 82,
   "metadata": {},
   "outputs": [],
   "source": [
    "def make_query_group(list_name,i,list_str):\n",
    "    if check_query in list_name:\n",
    "        query_check.remove(check_query)\n",
    "        try:\n",
    "            query_set[list_str] += query_all_df['count'][i]\n",
    "        except:\n",
    "            query_set[list_str] = query_all_df['count'][i]\n",
    "            \n",
    "query_set = {}\n",
    "query_check = list(query_all_df['query']) # list로 해야지 순서가 안바뀜..\n",
    "person = ['사람은?','인물은?','누구인가?','이름은?','누구인가요?','선수는?','자는?','누구였나?','누구였나요?','누구였는가?','상대는?','명칭은?']\n",
    "place = ['곳은?','어디인가?','장소는?','국가는?','나라는?','도시는?','지역은?','어디인가요?']\n",
    "date = ['해는?','시기는?','언제인가?','연도는?','년도는?','날짜는?','날은?','언제인가요?','기간은?','년인가?','몇년도인가?','년도인가?','년도였나요?','때는?']\n",
    "what = ['것은?','무엇인가?','무엇인가요?','무엇이었나요?']\n",
    "group = ['기관은?','집단은?','단체는?','팀은']\n",
    "why = ['이유는?','때문인가?']\n",
    "\n",
    "\n",
    "for i in range(len(query_all_df)):\n",
    "    check_query = query_all_df['query'][i]\n",
    "    make_query_group(person,i,'person')\n",
    "    make_query_group(place,i,'place')\n",
    "    make_query_group(date,i,'date')\n",
    "    make_query_group(what,i,'what')\n",
    "    make_query_group(group,i,'group')\n",
    "    make_query_group(why,i,'why')\n",
    "            \n",
    "        \n",
    "\n",
    "query_group_df = pd.DataFrame(list(query_set.items()), columns=['query_group','count'])"
   ]
  },
  {
   "cell_type": "code",
   "execution_count": 84,
   "metadata": {},
   "outputs": [
    {
     "name": "stderr",
     "output_type": "stream",
     "text": [
      "findfont: Font family 'NanumBarunGothic' not found.\n",
      "findfont: Font family 'NanumBarunGothic' not found.\n",
      "findfont: Font family 'NanumBarunGothic' not found.\n",
      "findfont: Font family 'NanumBarunGothic' not found.\n",
      "findfont: Font family 'NanumBarunGothic' not found.\n",
      "findfont: Font family 'NanumBarunGothic' not found.\n",
      "findfont: Font family 'NanumBarunGothic' not found.\n",
      "findfont: Font family 'NanumBarunGothic' not found.\n",
      "findfont: Font family 'NanumBarunGothic' not found.\n",
      "findfont: Font family 'NanumBarunGothic' not found.\n",
      "findfont: Font family 'NanumBarunGothic' not found.\n",
      "findfont: Font family 'NanumBarunGothic' not found.\n",
      "findfont: Font family 'NanumBarunGothic' not found.\n",
      "findfont: Font family 'NanumBarunGothic' not found.\n",
      "findfont: Font family 'NanumBarunGothic' not found.\n",
      "findfont: Font family 'NanumBarunGothic' not found.\n",
      "findfont: Font family 'NanumBarunGothic' not found.\n",
      "findfont: Font family 'NanumBarunGothic' not found.\n",
      "findfont: Font family 'NanumBarunGothic' not found.\n",
      "findfont: Font family 'NanumBarunGothic' not found.\n",
      "findfont: Font family 'NanumBarunGothic' not found.\n",
      "findfont: Font family 'NanumBarunGothic' not found.\n",
      "findfont: Font family 'NanumBarunGothic' not found.\n",
      "findfont: Font family 'NanumBarunGothic' not found.\n",
      "findfont: Font family 'NanumBarunGothic' not found.\n",
      "findfont: Font family 'NanumBarunGothic' not found.\n",
      "findfont: Font family 'NanumBarunGothic' not found.\n",
      "findfont: Font family 'NanumBarunGothic' not found.\n",
      "findfont: Font family 'NanumBarunGothic' not found.\n",
      "findfont: Font family 'NanumBarunGothic' not found.\n",
      "findfont: Font family 'NanumBarunGothic' not found.\n",
      "findfont: Font family 'NanumBarunGothic' not found.\n",
      "findfont: Font family 'NanumBarunGothic' not found.\n",
      "findfont: Font family 'NanumBarunGothic' not found.\n",
      "findfont: Font family 'NanumBarunGothic' not found.\n",
      "findfont: Font family 'NanumBarunGothic' not found.\n",
      "findfont: Font family 'NanumBarunGothic' not found.\n",
      "findfont: Font family 'NanumBarunGothic' not found.\n",
      "findfont: Font family 'NanumBarunGothic' not found.\n",
      "findfont: Font family 'NanumBarunGothic' not found.\n",
      "findfont: Font family 'NanumBarunGothic' not found.\n",
      "findfont: Font family 'NanumBarunGothic' not found.\n",
      "findfont: Font family 'NanumBarunGothic' not found.\n",
      "findfont: Font family 'NanumBarunGothic' not found.\n",
      "findfont: Font family 'NanumBarunGothic' not found.\n",
      "findfont: Font family 'NanumBarunGothic' not found.\n",
      "findfont: Font family 'NanumBarunGothic' not found.\n",
      "findfont: Font family 'NanumBarunGothic' not found.\n",
      "findfont: Font family 'NanumBarunGothic' not found.\n",
      "findfont: Font family 'NanumBarunGothic' not found.\n",
      "findfont: Font family 'NanumBarunGothic' not found.\n",
      "findfont: Font family 'NanumBarunGothic' not found.\n",
      "findfont: Font family 'NanumBarunGothic' not found.\n",
      "findfont: Font family 'NanumBarunGothic' not found.\n",
      "findfont: Font family 'NanumBarunGothic' not found.\n",
      "findfont: Font family 'NanumBarunGothic' not found.\n",
      "findfont: Font family 'NanumBarunGothic' not found.\n",
      "findfont: Font family 'NanumBarunGothic' not found.\n",
      "findfont: Font family 'NanumBarunGothic' not found.\n",
      "findfont: Font family 'NanumBarunGothic' not found.\n",
      "findfont: Font family 'NanumBarunGothic' not found.\n",
      "findfont: Font family 'NanumBarunGothic' not found.\n",
      "findfont: Font family 'NanumBarunGothic' not found.\n",
      "findfont: Font family 'NanumBarunGothic' not found.\n",
      "findfont: Font family 'NanumBarunGothic' not found.\n",
      "findfont: Font family 'NanumBarunGothic' not found.\n",
      "findfont: Font family 'NanumBarunGothic' not found.\n",
      "findfont: Font family 'NanumBarunGothic' not found.\n",
      "findfont: Font family 'NanumBarunGothic' not found.\n",
      "findfont: Font family 'NanumBarunGothic' not found.\n",
      "findfont: Font family 'NanumBarunGothic' not found.\n",
      "findfont: Font family 'NanumBarunGothic' not found.\n",
      "findfont: Font family 'NanumBarunGothic' not found.\n",
      "findfont: Font family 'NanumBarunGothic' not found.\n",
      "findfont: Font family 'NanumBarunGothic' not found.\n",
      "findfont: Font family 'NanumBarunGothic' not found.\n",
      "findfont: Font family 'NanumBarunGothic' not found.\n",
      "findfont: Font family 'NanumBarunGothic' not found.\n",
      "findfont: Font family 'NanumBarunGothic' not found.\n",
      "findfont: Font family 'NanumBarunGothic' not found.\n",
      "findfont: Font family 'NanumBarunGothic' not found.\n",
      "findfont: Font family 'NanumBarunGothic' not found.\n",
      "findfont: Font family 'NanumBarunGothic' not found.\n",
      "findfont: Font family 'NanumBarunGothic' not found.\n",
      "findfont: Font family 'NanumBarunGothic' not found.\n",
      "findfont: Font family 'NanumBarunGothic' not found.\n",
      "findfont: Font family 'NanumBarunGothic' not found.\n",
      "findfont: Font family 'NanumBarunGothic' not found.\n",
      "findfont: Font family 'NanumBarunGothic' not found.\n",
      "findfont: Font family 'NanumBarunGothic' not found.\n",
      "findfont: Font family 'NanumBarunGothic' not found.\n",
      "findfont: Font family 'NanumBarunGothic' not found.\n"
     ]
    },
    {
     "data": {
      "image/png": "[encoded data removed]",
      "text/plain": [
       "<Figure size 1000x700 with 1 Axes>"
      ]
     },
     "metadata": {},
     "output_type": "display_data"
    }
   ],
   "source": [
    "fig = plt.subplots(figsize=(10,7))\n",
    "ax = sns.barplot(x=query_group_df['query_group'],y=query_group_df['count'],palette = 'Set2');\n",
    "for rect in ax.patches:\n",
    "    ax.text (rect.get_x() + rect.get_width()  / 2,rect.get_height()+ 8,int(rect.get_height()),horizontalalignment='center', fontsize = 13)"
   ]
  },
  {
   "cell_type": "markdown",
   "metadata": {},
   "source": [
    "# 정답의 조사에 대하여"
   ]
  },
  {
   "cell_type": "code",
   "execution_count": 85,
   "metadata": {},
   "outputs": [
    {
     "data": {
      "text/plain": [
       "0                  하원\n",
       "1            《경영의 실제》\n",
       "2                  백성\n",
       "3                  중국\n",
       "4                  4개\n",
       "            ...      \n",
       "4187             제 양왕\n",
       "4188    '일곱 개의 신전 광장'\n",
       "4189           미나미 지로\n",
       "4190         200,000명\n",
       "4191             공산주의\n",
       "Name: answer, Length: 4192, dtype: object"
      ]
     },
     "execution_count": 85,
     "metadata": {},
     "output_type": "execute_result"
    }
   ],
   "source": [
    "all_ans_df = all_df['answer']\n",
    "all_ans_df"
   ]
  },
  {
   "cell_type": "code",
   "execution_count": 88,
   "metadata": {},
   "outputs": [],
   "source": [
    "from konlpy.tag import *\n",
    "okt=Okt()"
   ]
  },
  {
   "cell_type": "code",
   "execution_count": 89,
   "metadata": {},
   "outputs": [
    {
     "name": "stderr",
     "output_type": "stream",
     "text": [
      "100%|██████████| 4192/4192 [00:07<00:00, 576.27it/s] \n"
     ]
    }
   ],
   "source": [
    "pos_cnt = {}\n",
    "pos_list = {}\n",
    "origin_list = {}\n",
    "pos_se_cnt = {} # 맨앞, 맨뒤\n",
    "for i in tqdm(range(len(all_ans_df))):\n",
    "    pos = okt.pos(all_ans_df[i]) # 형태소 분석\n",
    "    # 전체 개수 추가\n",
    "    for p in pos:\n",
    "        try:\n",
    "            pos_cnt[p[1]] += 1 # 해당 품사의 발생 횟수\n",
    "            pos_list[p[1]].append(p[0]) # 해당 품사에 속하는 단어를 추가\n",
    "            origin_list[p[1]].append(all_ans_df[i]) # 원래 문장을 추가\n",
    "        except:\n",
    "            pos_cnt[p[1]] = 1\n",
    "            pos_list[p[1]] = [p[0]]\n",
    "            origin_list[p[1]] = [all_ans_df[i]]\n",
    "    \n",
    "    # 맨 앞, 맨 뒤 추가\n",
    "    try:\n",
    "        pos_se_cnt[pos[0][1]]+=1\n",
    "    except:\n",
    "        pos_se_cnt[pos[0][1]]=1\n",
    "    if len(pos)>=2:\n",
    "        try:\n",
    "            pos_se_cnt[pos[-1][1]]+=1\n",
    "        except:\n",
    "            pos_se_cnt[pos[-1][1]]=1"
   ]
  },
  {
   "cell_type": "code",
   "execution_count": 90,
   "metadata": {},
   "outputs": [
    {
     "data": {
      "text/plain": [
       "{'Noun': 7198,\n",
       " 'Foreign': 257,\n",
       " 'Josa': 757,\n",
       " 'Number': 857,\n",
       " 'Suffix': 232,\n",
       " 'Verb': 304,\n",
       " 'Modifier': 218,\n",
       " 'Punctuation': 527,\n",
       " 'Alpha': 177,\n",
       " 'Adverb': 30,\n",
       " 'Adjective': 116,\n",
       " 'Determiner': 41,\n",
       " 'VerbPrefix': 5,\n",
       " 'Exclamation': 17,\n",
       " 'KoreanParticle': 1,\n",
       " 'Conjunction': 2,\n",
       " 'Eomi': 3}"
      ]
     },
     "execution_count": 90,
     "metadata": {},
     "output_type": "execute_result"
    }
   ],
   "source": [
    "pos_cnt"
   ]
  },
  {
   "cell_type": "markdown",
   "metadata": {},
   "source": [
    "- Noun (명사)\n",
    "- Foreign (외래어)\n",
    "- Josa (조사)\n",
    "- Number (수사)\n",
    "- Suffix (접미사)\n",
    "- Verb (동사)\n",
    "- Modifier (수식어) : 명사를 수식하는 수식하는 단어\n",
    "- Punctuation (구두점)\n",
    "- Alpha (알파벳)\n",
    "- Adverb (부사) : ex) 아주, 빠르게\n",
    "- Adjective (형용사)\n",
    "- Determiner (관형사) : 명사 앞에 위치하여 명사 범위를 한정하는 단어 ex) \"그\", \"이\".\n",
    "- VerbPrefix (동사접두사) # 동사 앞에 붙어 동사의 의미를 변경하는 접두사\n",
    "- Exclamation (감탄사)\n",
    "- KoreanParticle (한국어 어미) ex) ㅋㅋㅋ\n",
    "- Conjunction (접속사) ex) 그러나, 그리고\n",
    "- Eomi (어미) : 동사와 형용사의 어간에 붙어 활용 형태를 만드는 요소"
   ]
  },
  {
   "cell_type": "code",
   "execution_count": 114,
   "metadata": {},
   "outputs": [
    {
     "data": {
      "text/plain": [
       "['아서', '한데', '아서']"
      ]
     },
     "execution_count": 114,
     "metadata": {},
     "output_type": "execute_result"
    }
   ],
   "source": [
    "# 주석 써서 알아보기\n",
    "\n",
    "# pos_list['Number']\n",
    "# pos_list['Modifier']\n",
    "# pos_list['Punctuation']\n",
    "# pos_list['Adverb']\n",
    "# pos_list['Determiner']\n",
    "# pos_list['VerbPrefix']\n",
    "# pos_list['Exclamation']\n",
    "# pos_list['KoreanParticle'] \n",
    "# pos_list['Conjunction'] \n",
    "pos_list['Eomi'] "
   ]
  },
  {
   "cell_type": "code",
   "execution_count": 115,
   "metadata": {},
   "outputs": [
    {
     "data": {
      "text/plain": [
       "['아서 홉우드', '독일의 고전 문헌학자 헤르만 딜스가 이들 철학자의 단편들을 한데 모아 엮은 책의 제목', '아서 레이튼']"
      ]
     },
     "execution_count": 115,
     "metadata": {},
     "output_type": "execute_result"
    }
   ],
   "source": [
    "origin_list['Eomi'] "
   ]
  },
  {
   "cell_type": "code",
   "execution_count": 116,
   "metadata": {},
   "outputs": [
    {
     "data": {
      "text/plain": [
       "{'Noun': 7198,\n",
       " 'Foreign': 257,\n",
       " 'Josa': 757,\n",
       " 'Number': 857,\n",
       " 'Suffix': 232,\n",
       " 'Verb': 304,\n",
       " 'Modifier': 218,\n",
       " 'Punctuation': 527,\n",
       " 'Alpha': 177,\n",
       " 'Adverb': 30,\n",
       " 'Adjective': 116,\n",
       " 'Determiner': 41,\n",
       " 'VerbPrefix': 5,\n",
       " 'Exclamation': 17,\n",
       " 'KoreanParticle': 1,\n",
       " 'Conjunction': 2,\n",
       " 'Eomi': 3}"
      ]
     },
     "execution_count": 116,
     "metadata": {},
     "output_type": "execute_result"
    }
   ],
   "source": [
    "pos_cnt # 그냥 다 세기"
   ]
  },
  {
   "cell_type": "code",
   "execution_count": 117,
   "metadata": {},
   "outputs": [
    {
     "data": {
      "text/plain": [
       "{'Noun': 5016,\n",
       " 'Foreign': 177,\n",
       " 'Number': 677,\n",
       " 'Suffix': 93,\n",
       " 'Modifier': 100,\n",
       " 'Punctuation': 288,\n",
       " 'Alpha': 64,\n",
       " 'Adverb': 10,\n",
       " 'Josa': 78,\n",
       " 'Verb': 87,\n",
       " 'Adjective': 40,\n",
       " 'VerbPrefix': 2,\n",
       " 'Determiner': 15,\n",
       " 'Exclamation': 7,\n",
       " 'KoreanParticle': 1,\n",
       " 'Eomi': 2}"
      ]
     },
     "execution_count": 117,
     "metadata": {},
     "output_type": "execute_result"
    }
   ],
   "source": [
    "pos_se_cnt # 중복되는 거는 좀 합치기기"
   ]
  },
  {
   "cell_type": "markdown",
   "metadata": {},
   "source": [
    "# 증강"
   ]
  },
  {
   "cell_type": "markdown",
   "metadata": {},
   "source": [
    "- EasyDataAugmentation (EDA)\n",
    "- AEasierDataAugmentation (AEDA)\n",
    "- RandomDeletion (RD)\n",
    "- RandomInsertion (RI)\n",
    "- SynonymReplacement (SR)\n",
    "- RandomSwap (RS) "
   ]
  },
  {
   "cell_type": "code",
   "execution_count": 160,
   "metadata": {},
   "outputs": [
    {
     "data": {
      "text/plain": [
       "0           대통령을 포함한 미국의 행정부 견제권을 갖는 국가 기관은?\n",
       "1                     현대적 인사조직관리의 시발점이 된 책은?\n",
       "2             강희제가 1717년에 쓴 글은 누구를 위해 쓰여졌는가?\n",
       "3    11~12세기에 제작된 본존불은 보통 어떤 나라의 특징이 전파되었나요?\n",
       "4                 명문이 적힌 유물을 구성하는 그릇의 총 개수는?\n",
       "Name: question, dtype: object"
      ]
     },
     "execution_count": 160,
     "metadata": {},
     "output_type": "execute_result"
    }
   ],
   "source": [
    "train_df['question'][:5]"
   ]
  },
  {
   "cell_type": "markdown",
   "metadata": {},
   "source": [
    "## EasyDataAugmentation (EDA)"
   ]
  },
  {
   "cell_type": "code",
   "execution_count": 143,
   "metadata": {},
   "outputs": [
    {
     "data": {
      "text/plain": [
       "['대통령을 포함한 의 행정부 견제권을 갖는 국가 기관은?',\n",
       " '현대적 주재 인사조직관리의 시발점이 된 책은?',\n",
       " '강희제가 1717년위해쓴 글은 누구를 에 쓰여졌는가?',\n",
       " '11~12세기에 제작된 종류존불은 보통 어떤 나라의 특징이 전파되었나요?',\n",
       " '명문 글 이 적힌 유물을 구성하는 그릇의 총 개수는?']"
      ]
     },
     "execution_count": 143,
     "metadata": {},
     "output_type": "execute_result"
    }
   ],
   "source": [
    "from koeda import EDA\n",
    "augmenter = EDA(morpheme_analyzer = \"Okt\") # 기본값은 \"Okt\"\n",
    "\n",
    "questions = train_df['question'].tolist()\n",
    "eda_result = augmenter(questions)\n",
    "\n",
    "eda_result[:5]"
   ]
  },
  {
   "cell_type": "markdown",
   "metadata": {},
   "source": [
    "EDA란, 동의어 대체, 무작위 삽입, 무작위 교환, 무작위 삭제 등을 진행\n",
    "\n",
    "- \"의\"가 추가되어 어색해졌고, 의미가 불명확해졌습니다.\n",
    "- \"주재\"라는 단어가 추가되어 원래의 의미와 다르게 해석될 수 있습니다. \"주재\"는 특정한 의미를 가지고 있기 때문에 혼란을 줄 수 있습니다.\n",
    "- \"1717년위해쓴\"에서 띄어쓰기가 잘못되어 의미가 혼란스러워졌습니다. \"에 쓰여졌는가?\"의 어순도 이상합니다.\n",
    "- \"종류존불\"이 잘못 쓰여져 자연스럽지 않습니다.\n",
    "- \"명문 글 이 적힌\"에서 \"글 이\"의 띄어쓰기가 잘못되어 어색해졌습니다."
   ]
  },
  {
   "cell_type": "code",
   "execution_count": 161,
   "metadata": {},
   "outputs": [],
   "source": [
    "# # 새로운 데이터셋 생성\n",
    "# augmented_data = []\n",
    "# for i in range(len(questions)):\n",
    "#     # 원본 데이터 추가\n",
    "#     augmented_data.append({\n",
    "#         'id': train_df['id'][i],\n",
    "#         'doc_id': train_df['doc_id'][i],\n",
    "#         'title': train_df['title'][i],\n",
    "#         'context': train_df['context'][i],\n",
    "#         'question': train_df['question'][i],\n",
    "#         'answer': train_df['answer'][i],\n",
    "#         'context_len': train_df['context_len'][i],\n",
    "#         'question_len': train_df['question_len'][i],\n",
    "#         'answer_len': train_df['answer_len'][i],\n",
    "#         'answer_start': train_df['answer_start'][i],\n",
    "#         'doc_type': train_df['doc_type'][i],\n",
    "#     })\n",
    "    \n",
    "#     # EDA로 증강된 데이터 추가\n",
    "#     augmented_data.append({\n",
    "#         'id': f\"aug-{i}\",\n",
    "#         'doc_id': train_df['doc_id'][i],\n",
    "#         'title': train_df['title'][i],\n",
    "#         'context': train_df['context'][i],\n",
    "#         'question': eda_result[i],\n",
    "#         'answer': train_df['answer'][i],\n",
    "#         'context_len': train_df['context_len'][i],\n",
    "#         'question_len': len(eda_result[i]),\n",
    "#         'answer_len': train_df['answer_len'][i],\n",
    "#         'answer_start': train_df['answer_start'][i],\n",
    "#         'doc_type': train_df['doc_type'][i],\n",
    "#     })\n",
    "\n",
    "# # 증강된 데이터프레임 생성\n",
    "# augmented_df = pd.DataFrame(augmented_data)\n",
    "\n",
    "# # 결과 출력\n",
    "# augmented_df.head()"
   ]
  },
  {
   "cell_type": "code",
   "execution_count": 162,
   "metadata": {},
   "outputs": [],
   "source": [
    "# augmented_df.to_json('augmented_dataset.json', orient='records', force_ascii=False)\n",
    "# print(\"증강된 데이터셋이 'augmented_dataset.json' 파일로 저장되었습니다.\")"
   ]
  },
  {
   "cell_type": "code",
   "execution_count": 163,
   "metadata": {},
   "outputs": [],
   "source": [
    "# len(augmented_df)"
   ]
  },
  {
   "cell_type": "markdown",
   "metadata": {},
   "source": [
    "## AEasierDataAugmentation (AEDA)"
   ]
  },
  {
   "cell_type": "code",
   "execution_count": 144,
   "metadata": {},
   "outputs": [
    {
     "data": {
      "text/plain": [
       "['대통령을 : 포함한 미국의 행정부 견제권을 갖는 국가 기관은?',\n",
       " '현대적 인사조직관리 ? 의 : 시발점이 된 책은?',\n",
       " '강희제가 1717년에 쓴 : 글은 . 누구를 : 위해 쓰여졌는가?',\n",
       " '11~12세기에 제작된 본존불 . 은 보통 어떤 나라의 특징이 전파되었나요 ? ?',\n",
       " '명문이 적힌 유물을 구성하는 그릇 ; 의 : 총 . 개수 , 는?']"
      ]
     },
     "execution_count": 144,
     "metadata": {},
     "output_type": "execute_result"
    }
   ],
   "source": [
    "from koeda import AEDA\n",
    "augmenter = AEDA(morpheme_analyzer = \"Okt\") # 기본값은 \"Okt\"\n",
    "\n",
    "questions = train_df['question'].tolist()\n",
    "aeda_result = augmenter(questions)\n",
    "\n",
    "aeda_result[:5]"
   ]
  },
  {
   "cell_type": "markdown",
   "metadata": {},
   "source": [
    "## RandomDeletion (RD)"
   ]
  },
  {
   "cell_type": "code",
   "execution_count": 149,
   "metadata": {},
   "outputs": [
    {
     "data": {
      "text/plain": [
       "['대통령을 포함한 미국 행정부 견제권을 갖는 국가 기관은?',\n",
       " '현대적 인사조직관리의 시발점 된 책은?',\n",
       " '가 1717년에 쓴 글은 누구를 위해 쓰여졌는가?',\n",
       " '11~12세기에 제작된 본존불은 보통 어떤 나라의 특징이 전파되었나요?',\n",
       " '명문이 적힌 유물을 구성하는 그릇의 총 는?']"
      ]
     },
     "execution_count": 149,
     "metadata": {},
     "output_type": "execute_result"
    }
   ],
   "source": [
    "from koeda import RD\n",
    "augmenter = RD(morpheme_analyzer = \"Okt\") # 기본값은 \"Okt\"\n",
    "\n",
    "questions = train_df['question'].tolist()\n",
    "rd_result = augmenter(questions)\n",
    "\n",
    "rd_result[:5]"
   ]
  },
  {
   "cell_type": "markdown",
   "metadata": {},
   "source": [
    "## RandomInsertion (RI)"
   ]
  },
  {
   "cell_type": "code",
   "execution_count": 150,
   "metadata": {},
   "outputs": [
    {
     "data": {
      "text/plain": [
       "['대통령을 포함한 미국의 행정부 견제권을 갖는 국가 포용 기관은?',\n",
       " '현대 세대 적 인사조직관리의 시발점이 된 책은?',\n",
       " '강희제가 1717년에 쓴 글은 누구를 위해 쓰여졌는가?',\n",
       " '11~12세기에 제작된 본존불은 보통 어떤 가공 나라의 특징이 전파되었나요?',\n",
       " '접시 명문이 적힌 유물을 구성하는 그릇의 총 개수는?']"
      ]
     },
     "execution_count": 150,
     "metadata": {},
     "output_type": "execute_result"
    }
   ],
   "source": [
    "from koeda import RI\n",
    "augmenter = RI(morpheme_analyzer = \"Okt\") # 기본값은 \"Okt\"\n",
    "\n",
    "questions = train_df['question'].tolist()\n",
    "ri_result = augmenter(questions)\n",
    "\n",
    "ri_result[:5]"
   ]
  },
  {
   "cell_type": "markdown",
   "metadata": {},
   "source": [
    "## SynonymReplacement (SR)"
   ]
  },
  {
   "cell_type": "code",
   "execution_count": 151,
   "metadata": {},
   "outputs": [
    {
     "data": {
      "text/plain": [
       "['대통령을 포함한 미국의 행정부 견제권을 갖는 국가 기관백금?',\n",
       " '현대상대 인사조직관리의 시발점이 된 책은?',\n",
       " '강희제가 1717년에 쓴 학업은 누구를 위해 쓰여졌는가?',\n",
       " '11~12세기에 제작된 본존불은 보통 어떤 나라교의 특징이 전파되었나요?',\n",
       " '명문플러스 적힌 유물을 구성하는 그릇의 총 개수는?']"
      ]
     },
     "execution_count": 151,
     "metadata": {},
     "output_type": "execute_result"
    }
   ],
   "source": [
    "from koeda import SR\n",
    "augmenter = SR(morpheme_analyzer = \"Okt\") # 기본값은 \"Okt\"\n",
    "\n",
    "questions = train_df['question'].tolist()\n",
    "sr_result = augmenter(questions)\n",
    "\n",
    "sr_result[:5]"
   ]
  },
  {
   "cell_type": "markdown",
   "metadata": {},
   "source": [
    "## RandomSwap (RS)"
   ]
  },
  {
   "cell_type": "code",
   "execution_count": 152,
   "metadata": {},
   "outputs": [
    {
     "data": {
      "text/plain": [
       "['을 포함한 미국의대통령행정부 견제권을 갖는 국가 기관은?',\n",
       " '현대적 인사조직관리은 시발점이 된 책의?',\n",
       " '강희제가 1717년에 쓴 글은 누구위해 를 쓰여졌는가?',\n",
       " '11~12세기에 제작된 본존불은 보통 어떤 특징의 나라이 전파되었나요?',\n",
       " '명문이 적힌 유물을 구성하는 그릇의 총?개수는']"
      ]
     },
     "execution_count": 152,
     "metadata": {},
     "output_type": "execute_result"
    }
   ],
   "source": [
    "from koeda import RS\n",
    "augmenter = RS(morpheme_analyzer = \"Okt\") # 기본값은 \"Okt\"\n",
    "\n",
    "questions = train_df['question'].tolist()\n",
    "rs_result = augmenter(questions)\n",
    "\n",
    "rs_result[:5]"
   ]
  },
  {
   "cell_type": "code",
   "execution_count": null,
   "metadata": {},
   "outputs": [],
   "source": []
  }
 ],
 "metadata": {
  "kernelspec": {
   "display_name": "base",
   "language": "python",
   "name": "python3"
  },
  "language_info": {
   "codemirror_mode": {
    "name": "ipython",
    "version": 3
   },
   "file_extension": ".py",
   "mimetype": "text/x-python",
   "name": "python",
   "nbconvert_exporter": "python",
   "pygments_lexer": "ipython3",
   "version": "3.10.13"
  }
 },
 "nbformat": 4,
 "nbformat_minor": 2
}
