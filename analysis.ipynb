{
 "cells": [
  {
   "cell_type": "code",
   "execution_count": 1,
   "metadata": {},
   "outputs": [
    {
     "name": "stderr",
     "output_type": "stream",
     "text": [
      "/data/ephemeral/home/myenv/lib/python3.10/site-packages/tqdm/auto.py:21: TqdmWarning: IProgress not found. Please update jupyter and ipywidgets. See https://ipywidgets.readthedocs.io/en/stable/user_install.html\n",
      "  from .autonotebook import tqdm as notebook_tqdm\n"
     ]
    },
    {
     "data": {
      "text/html": [
       "<div>\n",
       "<style scoped>\n",
       "    .dataframe tbody tr th:only-of-type {\n",
       "        vertical-align: middle;\n",
       "    }\n",
       "\n",
       "    .dataframe tbody tr th {\n",
       "        vertical-align: top;\n",
       "    }\n",
       "\n",
       "    .dataframe thead th {\n",
       "        text-align: right;\n",
       "    }\n",
       "</style>\n",
       "<table border=\"1\" class=\"dataframe\">\n",
       "  <thead>\n",
       "    <tr style=\"text-align: right;\">\n",
       "      <th></th>\n",
       "      <th>title</th>\n",
       "      <th>context</th>\n",
       "      <th>question</th>\n",
       "      <th>id</th>\n",
       "      <th>answers</th>\n",
       "      <th>document_id</th>\n",
       "      <th>__index_level_0__</th>\n",
       "    </tr>\n",
       "  </thead>\n",
       "  <tbody>\n",
       "    <tr>\n",
       "      <th>0</th>\n",
       "      <td>전효숙</td>\n",
       "      <td>순천여자고등학교 졸업, 1973년 이화여자대학교를 졸업하고 1975년 제17회 사법...</td>\n",
       "      <td>처음으로 부실 경영인에 대한 보상 선고를 받은 회사는?</td>\n",
       "      <td>mrc-0-003264</td>\n",
       "      <td>{'answer_start': [284], 'text': ['한보철강']}</td>\n",
       "      <td>9027</td>\n",
       "      <td>2146</td>\n",
       "    </tr>\n",
       "    <tr>\n",
       "      <th>1</th>\n",
       "      <td>스토우빌선</td>\n",
       "      <td>요크 카운티 동쪽에 처음으로 여객 열차 운행이 시작한 시점은 1868년 토론토 &amp; ...</td>\n",
       "      <td>스카버러 남쪽과 코보콘그 마을의 철도 노선이 처음 연장된 연도는?</td>\n",
       "      <td>mrc-0-004762</td>\n",
       "      <td>{'answer_start': [146], 'text': ['1871년']}</td>\n",
       "      <td>51765</td>\n",
       "      <td>3106</td>\n",
       "    </tr>\n",
       "    <tr>\n",
       "      <th>2</th>\n",
       "      <td>촐라</td>\n",
       "      <td>촐라 정부\\n 촐라의 정부 체제는 전제군주제였으며,2001 촐라의 군주는 절대적인 ...</td>\n",
       "      <td>촌락에서 운영 위원 후보자 이름을 쓰기위해 사용된 것은?</td>\n",
       "      <td>mrc-1-001810</td>\n",
       "      <td>{'answer_start': [517], 'text': ['나뭇잎']}</td>\n",
       "      <td>15694</td>\n",
       "      <td>1180</td>\n",
       "    </tr>\n",
       "    <tr>\n",
       "      <th>3</th>\n",
       "      <td>백조 기사</td>\n",
       "      <td>프랑스의 십자군 무훈시는 1099년 예루살렘 왕국의 통치자가 된 고드프루아 드 부용...</td>\n",
       "      <td>로타이르가 백조를 구하기 위해 사용한 것은?</td>\n",
       "      <td>mrc-1-000219</td>\n",
       "      <td>{'answer_start': [1109], 'text': ['금대야']}</td>\n",
       "      <td>59536</td>\n",
       "      <td>141</td>\n",
       "    </tr>\n",
       "    <tr>\n",
       "      <th>4</th>\n",
       "      <td>탈관료제화</td>\n",
       "      <td>탈관료제화는 현대사회에서 관료제 성격이 약화되는 현상이다. 현대사회에서 관료제는 약...</td>\n",
       "      <td>의견을 자유롭게 나누는 것은 조직 내 어떤 관계에서 가능한가?</td>\n",
       "      <td>mrc-1-000285</td>\n",
       "      <td>{'answer_start': [386], 'text': ['수평적 관계']}</td>\n",
       "      <td>32991</td>\n",
       "      <td>184</td>\n",
       "    </tr>\n",
       "  </tbody>\n",
       "</table>\n",
       "</div>"
      ],
      "text/plain": [
       "   title                                            context  \\\n",
       "0    전효숙  순천여자고등학교 졸업, 1973년 이화여자대학교를 졸업하고 1975년 제17회 사법...   \n",
       "1  스토우빌선  요크 카운티 동쪽에 처음으로 여객 열차 운행이 시작한 시점은 1868년 토론토 & ...   \n",
       "2     촐라  촐라 정부\\n 촐라의 정부 체제는 전제군주제였으며,2001 촐라의 군주는 절대적인 ...   \n",
       "3  백조 기사  프랑스의 십자군 무훈시는 1099년 예루살렘 왕국의 통치자가 된 고드프루아 드 부용...   \n",
       "4  탈관료제화  탈관료제화는 현대사회에서 관료제 성격이 약화되는 현상이다. 현대사회에서 관료제는 약...   \n",
       "\n",
       "                               question            id  \\\n",
       "0        처음으로 부실 경영인에 대한 보상 선고를 받은 회사는?  mrc-0-003264   \n",
       "1  스카버러 남쪽과 코보콘그 마을의 철도 노선이 처음 연장된 연도는?  mrc-0-004762   \n",
       "2       촌락에서 운영 위원 후보자 이름을 쓰기위해 사용된 것은?  mrc-1-001810   \n",
       "3              로타이르가 백조를 구하기 위해 사용한 것은?  mrc-1-000219   \n",
       "4    의견을 자유롭게 나누는 것은 조직 내 어떤 관계에서 가능한가?  mrc-1-000285   \n",
       "\n",
       "                                       answers  document_id  __index_level_0__  \n",
       "0    {'answer_start': [284], 'text': ['한보철강']}         9027               2146  \n",
       "1   {'answer_start': [146], 'text': ['1871년']}        51765               3106  \n",
       "2     {'answer_start': [517], 'text': ['나뭇잎']}        15694               1180  \n",
       "3    {'answer_start': [1109], 'text': ['금대야']}        59536                141  \n",
       "4  {'answer_start': [386], 'text': ['수평적 관계']}        32991                184  "
      ]
     },
     "execution_count": 1,
     "metadata": {},
     "output_type": "execute_result"
    }
   ],
   "source": [
    "from datasets import Dataset\n",
    "\n",
    "# Hugging Face datasets 파일 읽기\n",
    "train = Dataset.load_from_disk('../data/train_dataset/train')\n",
    "dev = Dataset.load_from_disk('../data/train_dataset/validation')\n",
    "\n",
    "# Pandas DataFrame으로 변환\n",
    "train_df = train.to_pandas()\n",
    "dev_df = dev.to_pandas()\n",
    "\n",
    "dev_df.head(5)"
   ]
  },
  {
   "cell_type": "markdown",
   "metadata": {},
   "source": [
    "### answer text에 특정 단어가 포함되어있는지 확인"
   ]
  },
  {
   "cell_type": "code",
   "execution_count": 3,
   "metadata": {},
   "outputs": [
    {
     "name": "stdout",
     "output_type": "stream",
     "text": [
      "'''이(가) 포함된 text: '초일기'\n",
      "'''이(가) 포함된 text: '발라즈 찬 카이이'\n",
      "'''이(가) 포함된 text: '길버트 에드워드'\n",
      "'''이(가) 포함된 text: '좌표의 세계'\n",
      "'''이(가) 포함된 text: '일반고 점프업'\n",
      "'''이(가) 포함된 text: '언덕'\n",
      "'''이(가) 포함된 text: '변론의 갱신권'\n",
      "'''이(가) 포함된 text: '유기생물의 기원과 접촉한 소녀'\n",
      "'''이(가) 포함된 text: '우월한 인종'\n",
      "'''이(가) 포함된 text: 8'37'\n",
      "'''이(가) 포함된 text: '토성 작전'\n",
      "'''이(가) 포함된 text: '해련지탑(海蓮之塔)'\n",
      "'''이(가) 포함된 text: '화염인간'\n",
      "'''이(가) 포함된 text: '프티 부르주아적 급진주의'\n",
      "'''이(가) 포함된 text: '마법금지정책'\n",
      "'''이(가) 포함된 text: '아누스 록'\n",
      "'''이(가) 포함된 text: '진실성 비판'\n",
      "'''이(가) 포함된 text: '심리불속행'\n",
      "'''이(가) 포함된 text: 'J스루 카드'\n",
      "'''이(가) 포함된 text: '랑그라시아나의 밤'\n",
      "'''이(가) 포함된 text: 학자 '스테파니 델리'\n",
      "'''이(가) 포함된 text: '수면 학습기'\n",
      "'''이(가) 포함된 text: '거리 농구'\n",
      "'''이(가) 포함된 text: '소요유'\n",
      "'''이(가) 포함된 text: '북부 게르마니아 군단'\n",
      "'''이(가) 포함된 text: '오라버니'\n",
      "'''이(가) 포함된 text: '반나치주의'\n",
      "'''이(가) 포함된 text: '세인출판사'\n",
      "'''이(가) 포함된 text: '프리츠'\n",
      "'''이(가) 포함된 text: 왕비 '아미티스'\n",
      "'''이(가) 포함된 text: '검은 3연성'\n",
      "'''이(가) 포함된 text: '아레나'\n",
      "'''이(가) 포함된 text: '황제'\n",
      "'''이(가) 포함된 text: '프록터'\n",
      "'''이(가) 포함된 text: '조카'\n",
      "'''이(가) 포함된 text: '백범일지'\n",
      "'''이(가) 포함된 text: 의무이행소송'제도\n",
      "'''이(가) 포함된 text: '중매 대통령'\n",
      "'''이(가) 포함된 text: '째포'\n",
      "'''이(가) 포함된 text: '너는 여기 있다'\n",
      "'''이(가) 포함된 text: '여름에는 교목이 있고 야왕은 천국을 바라본다'\n"
     ]
    }
   ],
   "source": [
    "# 특정 단어 설정 (예시: \"금대야\")\n",
    "keyword = \"'\"\n",
    "\n",
    "# answers의 text들 중 특정 단어가 포함되어 있는지 확인하고 결과를 출력하는 함수\n",
    "def check_keyword_in_answers(df, keyword):\n",
    "    found_any = False  # 해당 단어가 포함된 적이 있는지 확인하는 변수\n",
    "    for index, row in df.iterrows():\n",
    "        answer_texts = row['answers']['text']  # answers의 text 값\n",
    "        for text in answer_texts:\n",
    "            if keyword in text:\n",
    "                print(f\"'{keyword}'이(가) 포함된 text: {text}\")\n",
    "                found_any = True\n",
    "    \n",
    "    # 만약 해당 단어가 포함된 text가 하나도 없다면 메시지를 한 번만 출력\n",
    "    if not found_any:\n",
    "        print(f\"'{keyword}'이(가) 포함되어 있지 않음\")\n",
    "\n",
    "# train_df에서 특정 단어가 포함된 answers의 text들을 확인\n",
    "check_keyword_in_answers(train_df, keyword)\n"
   ]
  },
  {
   "cell_type": "markdown",
   "metadata": {},
   "source": [
    "### 1. 답변 길이 제약 설정"
   ]
  },
  {
   "cell_type": "code",
   "execution_count": 5,
   "metadata": {},
   "outputs": [
    {
     "name": "stdout",
     "output_type": "stream",
     "text": [
      "최대 길이: 83\n",
      "최소 길이: 1\n",
      "평균 길이: 6.275050607287449\n",
      "최대 길이의 text: “나는 국경일에 일장기를 게양하는 것을 반대하지 않는다. 왜냐하면 우리가 일본의 통치하에 있는 한 우리는 그 통치의 명령에 복종해야 하기 때문이다.”\n",
      "최소 길이의 text: 덱\n"
     ]
    }
   ],
   "source": [
    "df = train_df # or dev_df\n",
    "\n",
    "# text의 길이 계산 후 최대 및 최소 값 출력\n",
    "text_lengths = df['answers'].apply(lambda x: len(x['text'][0]))\n",
    "print(f\"최대 길이: {text_lengths.max()}\")\n",
    "print(f\"최소 길이: {text_lengths.min()}\")\n",
    "print('평균 길이:', sum(text_lengths)/len(text_lengths))\n",
    "\n",
    "# 최대, 최소 길이 text 출력\n",
    "print(f\"최대 길이의 text: {df['answers'].apply(lambda x: x['text'][0])[text_lengths.idxmax()]}\")\n",
    "print(f\"최소 길이의 text: {df['answers'].apply(lambda x: x['text'][0])[text_lengths.idxmin()]}\")"
   ]
  },
  {
   "cell_type": "markdown",
   "metadata": {},
   "source": [
    "### 2. n-best 후보 필터링"
   ]
  },
  {
   "cell_type": "markdown",
   "metadata": {},
   "source": []
  }
 ],
 "metadata": {
  "kernelspec": {
   "display_name": "base",
   "language": "python",
   "name": "python3"
  },
  "language_info": {
   "codemirror_mode": {
    "name": "ipython",
    "version": 3
   },
   "file_extension": ".py",
   "mimetype": "text/x-python",
   "name": "python",
   "nbconvert_exporter": "python",
   "pygments_lexer": "ipython3",
   "version": "3.10.13"
  }
 },
 "nbformat": 4,
 "nbformat_minor": 2
}
