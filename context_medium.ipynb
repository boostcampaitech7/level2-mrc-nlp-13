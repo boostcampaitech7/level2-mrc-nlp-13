{
 "cells": [
  {
   "cell_type": "code",
   "execution_count": 1,
   "metadata": {},
   "outputs": [
    {
     "data": {
      "text/html": [
       "<div>\n",
       "<style scoped>\n",
       "    .dataframe tbody tr th:only-of-type {\n",
       "        vertical-align: middle;\n",
       "    }\n",
       "\n",
       "    .dataframe tbody tr th {\n",
       "        vertical-align: top;\n",
       "    }\n",
       "\n",
       "    .dataframe thead th {\n",
       "        text-align: right;\n",
       "    }\n",
       "</style>\n",
       "<table border=\"1\" class=\"dataframe\">\n",
       "  <thead>\n",
       "    <tr style=\"text-align: right;\">\n",
       "      <th></th>\n",
       "      <th>title</th>\n",
       "      <th>context</th>\n",
       "      <th>question</th>\n",
       "      <th>answers</th>\n",
       "    </tr>\n",
       "  </thead>\n",
       "  <tbody>\n",
       "    <tr>\n",
       "      <th>0</th>\n",
       "      <td>100원 동전</td>\n",
       "      <td>과거 필리핀의 1페소 동전이 대한민국 각지의 자동 판매기에서 100원 동전으로 둔갑...</td>\n",
       "      <td>['필리핀 1페소는 원화로 얼마 정도 하는가?']</td>\n",
       "      <td>[{'answer_start': array([194]), 'text': array(...</td>\n",
       "    </tr>\n",
       "    <tr>\n",
       "      <th>1</th>\n",
       "      <td>10년 전쟁</td>\n",
       "      <td>1850년대와 1860년대를 통해, 쿠바의 농장주와 사업가들은 식민지를 통치하는 근...</td>\n",
       "      <td>['크리올 엘리트들이 스페인 의회에게 요청한 점은 모두 몇 개인가?']</td>\n",
       "      <td>[{'answer_start': array([569]), 'text': array(...</td>\n",
       "    </tr>\n",
       "    <tr>\n",
       "      <th>2</th>\n",
       "      <td>1577년 대혜성</td>\n",
       "      <td>1577년 11월 13일, 튀코 브라헤는 해가 지기 직전 이 혜성을 보았다는 기록을...</td>\n",
       "      <td>['행성들이 타원을 그리며 태양 주위를 돈다는 사실을 정리한 이론은?']</td>\n",
       "      <td>[{'answer_start': array([348]), 'text': array(...</td>\n",
       "    </tr>\n",
       "    <tr>\n",
       "      <th>3</th>\n",
       "      <td>1701년 왕위계승법</td>\n",
       "      <td>1701년 당시 잉글랜드의 왕을 겸하고 있던 스코틀랜드 왕인 윌리엄 3세에게는 대를...</td>\n",
       "      <td>['윌리엄 3세가 2개 지역의 왕이었던 해는?']</td>\n",
       "      <td>[{'answer_start': array([0]), 'text': array(['...</td>\n",
       "    </tr>\n",
       "    <tr>\n",
       "      <th>4</th>\n",
       "      <td>1875년 페이지 법</td>\n",
       "      <td>미국으로 온 최초의 중국인 이민자들은 압도적으로 남성이 다수였다. 그들 대다수가 캘...</td>\n",
       "      <td>['미국으로 이민 온 사람들은 누구로부터 돈을 차용할 수 있었나?', '남성 노동자...</td>\n",
       "      <td>[{'answer_start': array([271]), 'text': array(...</td>\n",
       "    </tr>\n",
       "  </tbody>\n",
       "</table>\n",
       "</div>"
      ],
      "text/plain": [
       "         title                                            context  \\\n",
       "0      100원 동전  과거 필리핀의 1페소 동전이 대한민국 각지의 자동 판매기에서 100원 동전으로 둔갑...   \n",
       "1       10년 전쟁  1850년대와 1860년대를 통해, 쿠바의 농장주와 사업가들은 식민지를 통치하는 근...   \n",
       "2    1577년 대혜성  1577년 11월 13일, 튀코 브라헤는 해가 지기 직전 이 혜성을 보았다는 기록을...   \n",
       "3  1701년 왕위계승법  1701년 당시 잉글랜드의 왕을 겸하고 있던 스코틀랜드 왕인 윌리엄 3세에게는 대를...   \n",
       "4  1875년 페이지 법  미국으로 온 최초의 중국인 이민자들은 압도적으로 남성이 다수였다. 그들 대다수가 캘...   \n",
       "\n",
       "                                            question  \\\n",
       "0                        ['필리핀 1페소는 원화로 얼마 정도 하는가?']   \n",
       "1            ['크리올 엘리트들이 스페인 의회에게 요청한 점은 모두 몇 개인가?']   \n",
       "2           ['행성들이 타원을 그리며 태양 주위를 돈다는 사실을 정리한 이론은?']   \n",
       "3                        ['윌리엄 3세가 2개 지역의 왕이었던 해는?']   \n",
       "4  ['미국으로 이민 온 사람들은 누구로부터 돈을 차용할 수 있었나?', '남성 노동자...   \n",
       "\n",
       "                                             answers  \n",
       "0  [{'answer_start': array([194]), 'text': array(...  \n",
       "1  [{'answer_start': array([569]), 'text': array(...  \n",
       "2  [{'answer_start': array([348]), 'text': array(...  \n",
       "3  [{'answer_start': array([0]), 'text': array(['...  \n",
       "4  [{'answer_start': array([271]), 'text': array(...  "
      ]
     },
     "execution_count": 1,
     "metadata": {},
     "output_type": "execute_result"
    }
   ],
   "source": [
    "import pandas as pd\n",
    "import numpy as np\n",
    "\n",
    "df = pd.read_csv(\"./grouped_df.csv\")\n",
    "df.head()"
   ]
  },
  {
   "cell_type": "code",
   "execution_count": 2,
   "metadata": {},
   "outputs": [],
   "source": [
    "df['context_middle'] = df['context'].apply(lambda x: x[len(x)//4: len(x)*3//4])"
   ]
  },
  {
   "cell_type": "code",
   "execution_count": 3,
   "metadata": {},
   "outputs": [],
   "source": [
    "middle = df['context_middle']"
   ]
  },
  {
   "cell_type": "code",
   "execution_count": 4,
   "metadata": {},
   "outputs": [
    {
     "name": "stdout",
     "output_type": "stream",
     "text": [
      "CSV 파일이 'context_medium.csv'로 저장되었습니다.\n"
     ]
    }
   ],
   "source": [
    "# CSV 파일로 저장\n",
    "csv_file = 'context_medium.csv'\n",
    "middle.to_csv(csv_file, index=False, encoding='utf-8-sig')\n",
    "\n",
    "print(f\"CSV 파일이 '{csv_file}'로 저장되었습니다.\")"
   ]
  },
  {
   "cell_type": "code",
   "execution_count": 5,
   "metadata": {},
   "outputs": [
    {
     "name": "stdout",
     "output_type": "stream",
     "text": [
      "CSV 파일이 'context_base.csv'로 저장되었습니다.\n"
     ]
    }
   ],
   "source": [
    "base = df['context']\n",
    "csv_file = 'context_base.csv'\n",
    "base.to_csv(csv_file, index=False, encoding='utf-8-sig')\n",
    "\n",
    "print(f\"CSV 파일이 '{csv_file}'로 저장되었습니다.\")"
   ]
  }
 ],
 "metadata": {
  "kernelspec": {
   "display_name": "base",
   "language": "python",
   "name": "python3"
  },
  "language_info": {
   "codemirror_mode": {
    "name": "ipython",
    "version": 3
   },
   "file_extension": ".py",
   "mimetype": "text/x-python",
   "name": "python",
   "nbconvert_exporter": "python",
   "pygments_lexer": "ipython3",
   "version": "3.10.13"
  }
 },
 "nbformat": 4,
 "nbformat_minor": 2
}
