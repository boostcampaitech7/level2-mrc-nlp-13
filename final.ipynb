{
 "cells": [
  {
   "cell_type": "code",
   "execution_count": 2,
   "metadata": {},
   "outputs": [],
   "source": [
    "# 원본 + lmqg\n",
    "import pandas as pd\n",
    "from datasets import load_from_disk\n",
    "from datasets import Dataset, DatasetDict\n",
    "\n",
    "base = Dataset.load_from_disk('../data/train_dataset/train')\n",
    "base = base.to_pandas()\n",
    "\n",
    "lmqg = pd.read_csv('final_lmqg.csv')"
   ]
  },
  {
   "cell_type": "code",
   "execution_count": 3,
   "metadata": {},
   "outputs": [
    {
     "data": {
      "text/html": [
       "<div>\n",
       "<style scoped>\n",
       "    .dataframe tbody tr th:only-of-type {\n",
       "        vertical-align: middle;\n",
       "    }\n",
       "\n",
       "    .dataframe tbody tr th {\n",
       "        vertical-align: top;\n",
       "    }\n",
       "\n",
       "    .dataframe thead th {\n",
       "        text-align: right;\n",
       "    }\n",
       "</style>\n",
       "<table border=\"1\" class=\"dataframe\">\n",
       "  <thead>\n",
       "    <tr style=\"text-align: right;\">\n",
       "      <th></th>\n",
       "      <th>title</th>\n",
       "      <th>context</th>\n",
       "      <th>question</th>\n",
       "      <th>id</th>\n",
       "      <th>answers</th>\n",
       "      <th>document_id</th>\n",
       "      <th>__index_level_0__</th>\n",
       "    </tr>\n",
       "  </thead>\n",
       "  <tbody>\n",
       "    <tr>\n",
       "      <th>0</th>\n",
       "      <td>미국 상원</td>\n",
       "      <td>미국 상의원 또는 미국 상원(United States Senate)은 양원제인 미국...</td>\n",
       "      <td>대통령을 포함한 미국의 행정부 견제권을 갖는 국가 기관은?</td>\n",
       "      <td>mrc-1-000067</td>\n",
       "      <td>{'answer_start': [235], 'text': ['하원']}</td>\n",
       "      <td>18293</td>\n",
       "      <td>42</td>\n",
       "    </tr>\n",
       "    <tr>\n",
       "      <th>1</th>\n",
       "      <td>인사조직관리</td>\n",
       "      <td>'근대적 경영학' 또는 '고전적 경영학'에서 현대적 경영학으로 전환되는 시기는 19...</td>\n",
       "      <td>현대적 인사조직관리의 시발점이 된 책은?</td>\n",
       "      <td>mrc-0-004397</td>\n",
       "      <td>{'answer_start': [212], 'text': ['《경영의 실제》']}</td>\n",
       "      <td>51638</td>\n",
       "      <td>2873</td>\n",
       "    </tr>\n",
       "    <tr>\n",
       "      <th>2</th>\n",
       "      <td>강희제</td>\n",
       "      <td>강희제는 강화된 황권으로 거의 황제 중심의 독단적으로 나라를 이끌어 갔기에 자칫 전...</td>\n",
       "      <td>강희제가 1717년에 쓴 글은 누구를 위해 쓰여졌는가?</td>\n",
       "      <td>mrc-1-000362</td>\n",
       "      <td>{'answer_start': [510], 'text': ['백성']}</td>\n",
       "      <td>5028</td>\n",
       "      <td>230</td>\n",
       "    </tr>\n",
       "    <tr>\n",
       "      <th>3</th>\n",
       "      <td>금동삼존불감</td>\n",
       "      <td>불상을 모시기 위해 나무나 돌, 쇠 등을 깎아 일반적인 건축물보다 작은 규모로 만든...</td>\n",
       "      <td>11~12세기에 제작된 본존불은 보통 어떤 나라의 특징이 전파되었나요?</td>\n",
       "      <td>mrc-0-001510</td>\n",
       "      <td>{'answer_start': [625], 'text': ['중국']}</td>\n",
       "      <td>34146</td>\n",
       "      <td>992</td>\n",
       "    </tr>\n",
       "    <tr>\n",
       "      <th>4</th>\n",
       "      <td>계사명 사리구</td>\n",
       "      <td>동아대학교박물관에서 소장하고 있는 계사명 사리구는 총 4개의 용기로 구성된 조선후기...</td>\n",
       "      <td>명문이 적힌 유물을 구성하는 그릇의 총 개수는?</td>\n",
       "      <td>mrc-0-000823</td>\n",
       "      <td>{'answer_start': [30], 'text': ['4개']}</td>\n",
       "      <td>47334</td>\n",
       "      <td>548</td>\n",
       "    </tr>\n",
       "  </tbody>\n",
       "</table>\n",
       "</div>"
      ],
      "text/plain": [
       "     title                                            context  \\\n",
       "0    미국 상원  미국 상의원 또는 미국 상원(United States Senate)은 양원제인 미국...   \n",
       "1   인사조직관리  '근대적 경영학' 또는 '고전적 경영학'에서 현대적 경영학으로 전환되는 시기는 19...   \n",
       "2      강희제  강희제는 강화된 황권으로 거의 황제 중심의 독단적으로 나라를 이끌어 갔기에 자칫 전...   \n",
       "3   금동삼존불감  불상을 모시기 위해 나무나 돌, 쇠 등을 깎아 일반적인 건축물보다 작은 규모로 만든...   \n",
       "4  계사명 사리구  동아대학교박물관에서 소장하고 있는 계사명 사리구는 총 4개의 용기로 구성된 조선후기...   \n",
       "\n",
       "                                  question            id  \\\n",
       "0         대통령을 포함한 미국의 행정부 견제권을 갖는 국가 기관은?  mrc-1-000067   \n",
       "1                   현대적 인사조직관리의 시발점이 된 책은?  mrc-0-004397   \n",
       "2           강희제가 1717년에 쓴 글은 누구를 위해 쓰여졌는가?  mrc-1-000362   \n",
       "3  11~12세기에 제작된 본존불은 보통 어떤 나라의 특징이 전파되었나요?  mrc-0-001510   \n",
       "4               명문이 적힌 유물을 구성하는 그릇의 총 개수는?  mrc-0-000823   \n",
       "\n",
       "                                         answers  document_id  \\\n",
       "0        {'answer_start': [235], 'text': ['하원']}        18293   \n",
       "1  {'answer_start': [212], 'text': ['《경영의 실제》']}        51638   \n",
       "2        {'answer_start': [510], 'text': ['백성']}         5028   \n",
       "3        {'answer_start': [625], 'text': ['중국']}        34146   \n",
       "4         {'answer_start': [30], 'text': ['4개']}        47334   \n",
       "\n",
       "   __index_level_0__  \n",
       "0                 42  \n",
       "1               2873  \n",
       "2                230  \n",
       "3                992  \n",
       "4                548  "
      ]
     },
     "execution_count": 3,
     "metadata": {},
     "output_type": "execute_result"
    }
   ],
   "source": [
    "base.head()"
   ]
  },
  {
   "cell_type": "code",
   "execution_count": 4,
   "metadata": {},
   "outputs": [
    {
     "data": {
      "text/plain": [
       "3952"
      ]
     },
     "execution_count": 4,
     "metadata": {},
     "output_type": "execute_result"
    }
   ],
   "source": [
    "len(base)"
   ]
  },
  {
   "cell_type": "code",
   "execution_count": 5,
   "metadata": {},
   "outputs": [
    {
     "data": {
      "text/html": [
       "<div>\n",
       "<style scoped>\n",
       "    .dataframe tbody tr th:only-of-type {\n",
       "        vertical-align: middle;\n",
       "    }\n",
       "\n",
       "    .dataframe tbody tr th {\n",
       "        vertical-align: top;\n",
       "    }\n",
       "\n",
       "    .dataframe thead th {\n",
       "        text-align: right;\n",
       "    }\n",
       "</style>\n",
       "<table border=\"1\" class=\"dataframe\">\n",
       "  <thead>\n",
       "    <tr style=\"text-align: right;\">\n",
       "      <th></th>\n",
       "      <th>context</th>\n",
       "      <th>question</th>\n",
       "      <th>answers</th>\n",
       "    </tr>\n",
       "  </thead>\n",
       "  <tbody>\n",
       "    <tr>\n",
       "      <th>0</th>\n",
       "      <td>과거 필리핀의 1페소 동전이 대한민국 각지의 자동 판매기에서 100원 동전으로 둔갑...</td>\n",
       "      <td>대한민국의 100원 동전과 소재, 무게, 지름, 두께가 비슷한 가치는?</td>\n",
       "      <td>{'answer_start': [205], 'text': ['2개']}</td>\n",
       "    </tr>\n",
       "    <tr>\n",
       "      <th>1</th>\n",
       "      <td>과거 필리핀의 1페소 동전이 대한민국 각지의 자동 판매기에서 100원 동전으로 둔갑...</td>\n",
       "      <td>100원 동전 대신 외국 동전을 악용한 사례는 무엇인가?</td>\n",
       "      <td>{'answer_start': [339], 'text': ['필리핀의 1페소 동전이...</td>\n",
       "    </tr>\n",
       "    <tr>\n",
       "      <th>2</th>\n",
       "      <td>과거 필리핀의 1페소 동전이 대한민국 각지의 자동 판매기에서 100원 동전으로 둔갑...</td>\n",
       "      <td>일본의 500엔 동전처럼 자동 판매기의 사용을 금지시켜야 할 필요가 있다는 여론이 ...</td>\n",
       "      <td>{'answer_start': [393], 'text': ['위변조']}</td>\n",
       "    </tr>\n",
       "    <tr>\n",
       "      <th>3</th>\n",
       "      <td>1850년대와 1860년대를 통해, 쿠바의 농장주와 사업가들은 식민지를 통치하는 근...</td>\n",
       "      <td>신기술과 농경 기술이 많은 수의 노예를 불필요하게 만든 이유는?</td>\n",
       "      <td>{'answer_start': [201], 'text': ['용']}</td>\n",
       "    </tr>\n",
       "    <tr>\n",
       "      <th>4</th>\n",
       "      <td>1850년대와 1860년대를 통해, 쿠바의 농장주와 사업가들은 식민지를 통치하는 근...</td>\n",
       "      <td>신기술과 무엇이 많은 수의 노예를 불필요하게 만들었는가?</td>\n",
       "      <td>{'answer_start': [218], 'text': ['농경']}</td>\n",
       "    </tr>\n",
       "  </tbody>\n",
       "</table>\n",
       "</div>"
      ],
      "text/plain": [
       "                                             context  \\\n",
       "0  과거 필리핀의 1페소 동전이 대한민국 각지의 자동 판매기에서 100원 동전으로 둔갑...   \n",
       "1  과거 필리핀의 1페소 동전이 대한민국 각지의 자동 판매기에서 100원 동전으로 둔갑...   \n",
       "2  과거 필리핀의 1페소 동전이 대한민국 각지의 자동 판매기에서 100원 동전으로 둔갑...   \n",
       "3  1850년대와 1860년대를 통해, 쿠바의 농장주와 사업가들은 식민지를 통치하는 근...   \n",
       "4  1850년대와 1860년대를 통해, 쿠바의 농장주와 사업가들은 식민지를 통치하는 근...   \n",
       "\n",
       "                                            question  \\\n",
       "0            대한민국의 100원 동전과 소재, 무게, 지름, 두께가 비슷한 가치는?   \n",
       "1                    100원 동전 대신 외국 동전을 악용한 사례는 무엇인가?   \n",
       "2  일본의 500엔 동전처럼 자동 판매기의 사용을 금지시켜야 할 필요가 있다는 여론이 ...   \n",
       "3                신기술과 농경 기술이 많은 수의 노예를 불필요하게 만든 이유는?   \n",
       "4                    신기술과 무엇이 많은 수의 노예를 불필요하게 만들었는가?   \n",
       "\n",
       "                                             answers  \n",
       "0            {'answer_start': [205], 'text': ['2개']}  \n",
       "1  {'answer_start': [339], 'text': ['필리핀의 1페소 동전이...  \n",
       "2           {'answer_start': [393], 'text': ['위변조']}  \n",
       "3             {'answer_start': [201], 'text': ['용']}  \n",
       "4            {'answer_start': [218], 'text': ['농경']}  "
      ]
     },
     "execution_count": 5,
     "metadata": {},
     "output_type": "execute_result"
    }
   ],
   "source": [
    "lmqg.head()"
   ]
  },
  {
   "cell_type": "code",
   "execution_count": 6,
   "metadata": {},
   "outputs": [
    {
     "data": {
      "text/plain": [
       "17785"
      ]
     },
     "execution_count": 6,
     "metadata": {},
     "output_type": "execute_result"
    }
   ],
   "source": [
    "len(lmqg)"
   ]
  },
  {
   "cell_type": "code",
   "execution_count": 7,
   "metadata": {},
   "outputs": [
    {
     "data": {
      "text/html": [
       "<div>\n",
       "<style scoped>\n",
       "    .dataframe tbody tr th:only-of-type {\n",
       "        vertical-align: middle;\n",
       "    }\n",
       "\n",
       "    .dataframe tbody tr th {\n",
       "        vertical-align: top;\n",
       "    }\n",
       "\n",
       "    .dataframe thead th {\n",
       "        text-align: right;\n",
       "    }\n",
       "</style>\n",
       "<table border=\"1\" class=\"dataframe\">\n",
       "  <thead>\n",
       "    <tr style=\"text-align: right;\">\n",
       "      <th></th>\n",
       "      <th>context</th>\n",
       "      <th>question</th>\n",
       "      <th>answers</th>\n",
       "    </tr>\n",
       "  </thead>\n",
       "  <tbody>\n",
       "    <tr>\n",
       "      <th>0</th>\n",
       "      <td>미국 상의원 또는 미국 상원(United States Senate)은 양원제인 미국...</td>\n",
       "      <td>대통령을 포함한 미국의 행정부 견제권을 갖는 국가 기관은?</td>\n",
       "      <td>{'answer_start': [235], 'text': ['하원']}</td>\n",
       "    </tr>\n",
       "    <tr>\n",
       "      <th>1</th>\n",
       "      <td>'근대적 경영학' 또는 '고전적 경영학'에서 현대적 경영학으로 전환되는 시기는 19...</td>\n",
       "      <td>현대적 인사조직관리의 시발점이 된 책은?</td>\n",
       "      <td>{'answer_start': [212], 'text': ['《경영의 실제》']}</td>\n",
       "    </tr>\n",
       "    <tr>\n",
       "      <th>2</th>\n",
       "      <td>강희제는 강화된 황권으로 거의 황제 중심의 독단적으로 나라를 이끌어 갔기에 자칫 전...</td>\n",
       "      <td>강희제가 1717년에 쓴 글은 누구를 위해 쓰여졌는가?</td>\n",
       "      <td>{'answer_start': [510], 'text': ['백성']}</td>\n",
       "    </tr>\n",
       "    <tr>\n",
       "      <th>3</th>\n",
       "      <td>불상을 모시기 위해 나무나 돌, 쇠 등을 깎아 일반적인 건축물보다 작은 규모로 만든...</td>\n",
       "      <td>11~12세기에 제작된 본존불은 보통 어떤 나라의 특징이 전파되었나요?</td>\n",
       "      <td>{'answer_start': [625], 'text': ['중국']}</td>\n",
       "    </tr>\n",
       "    <tr>\n",
       "      <th>4</th>\n",
       "      <td>동아대학교박물관에서 소장하고 있는 계사명 사리구는 총 4개의 용기로 구성된 조선후기...</td>\n",
       "      <td>명문이 적힌 유물을 구성하는 그릇의 총 개수는?</td>\n",
       "      <td>{'answer_start': [30], 'text': ['4개']}</td>\n",
       "    </tr>\n",
       "  </tbody>\n",
       "</table>\n",
       "</div>"
      ],
      "text/plain": [
       "                                             context  \\\n",
       "0  미국 상의원 또는 미국 상원(United States Senate)은 양원제인 미국...   \n",
       "1  '근대적 경영학' 또는 '고전적 경영학'에서 현대적 경영학으로 전환되는 시기는 19...   \n",
       "2  강희제는 강화된 황권으로 거의 황제 중심의 독단적으로 나라를 이끌어 갔기에 자칫 전...   \n",
       "3  불상을 모시기 위해 나무나 돌, 쇠 등을 깎아 일반적인 건축물보다 작은 규모로 만든...   \n",
       "4  동아대학교박물관에서 소장하고 있는 계사명 사리구는 총 4개의 용기로 구성된 조선후기...   \n",
       "\n",
       "                                  question  \\\n",
       "0         대통령을 포함한 미국의 행정부 견제권을 갖는 국가 기관은?   \n",
       "1                   현대적 인사조직관리의 시발점이 된 책은?   \n",
       "2           강희제가 1717년에 쓴 글은 누구를 위해 쓰여졌는가?   \n",
       "3  11~12세기에 제작된 본존불은 보통 어떤 나라의 특징이 전파되었나요?   \n",
       "4               명문이 적힌 유물을 구성하는 그릇의 총 개수는?   \n",
       "\n",
       "                                         answers  \n",
       "0        {'answer_start': [235], 'text': ['하원']}  \n",
       "1  {'answer_start': [212], 'text': ['《경영의 실제》']}  \n",
       "2        {'answer_start': [510], 'text': ['백성']}  \n",
       "3        {'answer_start': [625], 'text': ['중국']}  \n",
       "4         {'answer_start': [30], 'text': ['4개']}  "
      ]
     },
     "execution_count": 7,
     "metadata": {},
     "output_type": "execute_result"
    }
   ],
   "source": [
    "# 두 데이터프레임 합치기\n",
    "combined_df = pd.concat([base[['context', 'question', 'answers']], \n",
    "                          lmqg[['context', 'question', 'answers']]], \n",
    "                         ignore_index=True)\n",
    "\n",
    "# 결과 데이터프레임 확인\n",
    "combined_df.head()"
   ]
  },
  {
   "cell_type": "code",
   "execution_count": 8,
   "metadata": {},
   "outputs": [
    {
     "name": "stderr",
     "output_type": "stream",
     "text": [
      "Saving the dataset (1/1 shards): 100%|██████████| 21737/21737 [00:00<00:00, 306501.35 examples/s]\n"
     ]
    }
   ],
   "source": [
    "from datasets import Dataset\n",
    "\n",
    "# answers 열의 리스트 내부 요소를 모두 문자열로 변환\n",
    "combined_df['answers'] = combined_df['answers'].apply(lambda x: [str(item) for item in x])\n",
    "\n",
    "# 증강한 데이터셋을 Dataset 객체로 생성\n",
    "augmented_dataset = Dataset.from_pandas(combined_df)\n",
    "\n",
    "# 증강된 데이터셋을 저장\n",
    "augmented_dataset.save_to_disk(\"data/train_dataset_augmented\")"
   ]
  },
  {
   "cell_type": "code",
   "execution_count": 9,
   "metadata": {},
   "outputs": [
    {
     "name": "stdout",
     "output_type": "stream",
     "text": [
      "answers\n",
      "<class 'list'>    21737\n",
      "Name: count, dtype: int64\n"
     ]
    }
   ],
   "source": [
    "print(combined_df['answers'].apply(type).value_counts())"
   ]
  },
  {
   "cell_type": "code",
   "execution_count": 10,
   "metadata": {},
   "outputs": [],
   "source": [
    "combined_df.to_pickle('data.pkl')"
   ]
  },
  {
   "cell_type": "code",
   "execution_count": 11,
   "metadata": {},
   "outputs": [
    {
     "data": {
      "text/plain": [
       "21737"
      ]
     },
     "execution_count": 11,
     "metadata": {},
     "output_type": "execute_result"
    }
   ],
   "source": [
    "len(combined_df)"
   ]
  },
  {
   "cell_type": "code",
   "execution_count": 12,
   "metadata": {},
   "outputs": [
    {
     "name": "stdout",
     "output_type": "stream",
     "text": [
      "21737\n"
     ]
    }
   ],
   "source": [
    "print(3952 + 17785)"
   ]
  },
  {
   "cell_type": "code",
   "execution_count": 31,
   "metadata": {},
   "outputs": [],
   "source": [
    "# import pandas as pd\n",
    "# import joblib\n",
    "# import pyarrow as pa\n",
    "# import pyarrow.parquet as pq\n",
    "\n",
    "# def save_combined_df(df, folder_path):\n",
    "#     # JSON 파일로 저장\n",
    "#     df.to_json(f'{folder_path}/state.json', lines=True)\n",
    "    \n",
    "#     # 상태 파일로 저장\n",
    "#     joblib.dump(df, f'{folder_path}/combined_data_state.pkl')\n",
    "    \n",
    "#     # 'answers' 열의 데이터를 문자열로 변환\n",
    "#     df['answers'] = df['answers'].apply(lambda x: str(x) if isinstance(x, (list, dict)) else x)\n",
    "    \n",
    "#     # Arrow 파일로 저장\n",
    "#     table = pa.Table.from_pandas(df)\n",
    "#     pq.write_table(table, f'{folder_path}/combined_data.arrow')\n",
    "\n",
    "# # 사용 예\n",
    "# save_combined_df(combined_df, '/data/ephemeral/home/sungeun/final+lmqg')\n"
   ]
  },
  {
   "cell_type": "code",
   "execution_count": 14,
   "metadata": {},
   "outputs": [],
   "source": [
    "combined_df.to_json('dataset.json')"
   ]
  },
  {
   "cell_type": "code",
   "execution_count": 15,
   "metadata": {},
   "outputs": [
    {
     "data": {
      "text/html": [
       "<div>\n",
       "<style scoped>\n",
       "    .dataframe tbody tr th:only-of-type {\n",
       "        vertical-align: middle;\n",
       "    }\n",
       "\n",
       "    .dataframe tbody tr th {\n",
       "        vertical-align: top;\n",
       "    }\n",
       "\n",
       "    .dataframe thead th {\n",
       "        text-align: right;\n",
       "    }\n",
       "</style>\n",
       "<table border=\"1\" class=\"dataframe\">\n",
       "  <thead>\n",
       "    <tr style=\"text-align: right;\">\n",
       "      <th></th>\n",
       "      <th>context</th>\n",
       "      <th>question</th>\n",
       "      <th>answers</th>\n",
       "    </tr>\n",
       "  </thead>\n",
       "  <tbody>\n",
       "    <tr>\n",
       "      <th>0</th>\n",
       "      <td>미국 상의원 또는 미국 상원(United States Senate)은 양원제인 미국...</td>\n",
       "      <td>대통령을 포함한 미국의 행정부 견제권을 갖는 국가 기관은?</td>\n",
       "      <td>[answer_start, text]</td>\n",
       "    </tr>\n",
       "    <tr>\n",
       "      <th>1</th>\n",
       "      <td>'근대적 경영학' 또는 '고전적 경영학'에서 현대적 경영학으로 전환되는 시기는 19...</td>\n",
       "      <td>현대적 인사조직관리의 시발점이 된 책은?</td>\n",
       "      <td>[answer_start, text]</td>\n",
       "    </tr>\n",
       "    <tr>\n",
       "      <th>2</th>\n",
       "      <td>강희제는 강화된 황권으로 거의 황제 중심의 독단적으로 나라를 이끌어 갔기에 자칫 전...</td>\n",
       "      <td>강희제가 1717년에 쓴 글은 누구를 위해 쓰여졌는가?</td>\n",
       "      <td>[answer_start, text]</td>\n",
       "    </tr>\n",
       "    <tr>\n",
       "      <th>3</th>\n",
       "      <td>불상을 모시기 위해 나무나 돌, 쇠 등을 깎아 일반적인 건축물보다 작은 규모로 만든...</td>\n",
       "      <td>11~12세기에 제작된 본존불은 보통 어떤 나라의 특징이 전파되었나요?</td>\n",
       "      <td>[answer_start, text]</td>\n",
       "    </tr>\n",
       "    <tr>\n",
       "      <th>4</th>\n",
       "      <td>동아대학교박물관에서 소장하고 있는 계사명 사리구는 총 4개의 용기로 구성된 조선후기...</td>\n",
       "      <td>명문이 적힌 유물을 구성하는 그릇의 총 개수는?</td>\n",
       "      <td>[answer_start, text]</td>\n",
       "    </tr>\n",
       "  </tbody>\n",
       "</table>\n",
       "</div>"
      ],
      "text/plain": [
       "                                             context  \\\n",
       "0  미국 상의원 또는 미국 상원(United States Senate)은 양원제인 미국...   \n",
       "1  '근대적 경영학' 또는 '고전적 경영학'에서 현대적 경영학으로 전환되는 시기는 19...   \n",
       "2  강희제는 강화된 황권으로 거의 황제 중심의 독단적으로 나라를 이끌어 갔기에 자칫 전...   \n",
       "3  불상을 모시기 위해 나무나 돌, 쇠 등을 깎아 일반적인 건축물보다 작은 규모로 만든...   \n",
       "4  동아대학교박물관에서 소장하고 있는 계사명 사리구는 총 4개의 용기로 구성된 조선후기...   \n",
       "\n",
       "                                  question               answers  \n",
       "0         대통령을 포함한 미국의 행정부 견제권을 갖는 국가 기관은?  [answer_start, text]  \n",
       "1                   현대적 인사조직관리의 시발점이 된 책은?  [answer_start, text]  \n",
       "2           강희제가 1717년에 쓴 글은 누구를 위해 쓰여졌는가?  [answer_start, text]  \n",
       "3  11~12세기에 제작된 본존불은 보통 어떤 나라의 특징이 전파되었나요?  [answer_start, text]  \n",
       "4               명문이 적힌 유물을 구성하는 그릇의 총 개수는?  [answer_start, text]  "
      ]
     },
     "execution_count": 15,
     "metadata": {},
     "output_type": "execute_result"
    }
   ],
   "source": [
    "combined_df.head()"
   ]
  },
  {
   "cell_type": "code",
   "execution_count": 16,
   "metadata": {},
   "outputs": [
    {
     "data": {
      "text/html": [
       "<div>\n",
       "<style scoped>\n",
       "    .dataframe tbody tr th:only-of-type {\n",
       "        vertical-align: middle;\n",
       "    }\n",
       "\n",
       "    .dataframe tbody tr th {\n",
       "        vertical-align: top;\n",
       "    }\n",
       "\n",
       "    .dataframe thead th {\n",
       "        text-align: right;\n",
       "    }\n",
       "</style>\n",
       "<table border=\"1\" class=\"dataframe\">\n",
       "  <thead>\n",
       "    <tr style=\"text-align: right;\">\n",
       "      <th></th>\n",
       "      <th>context</th>\n",
       "      <th>question</th>\n",
       "      <th>answers</th>\n",
       "    </tr>\n",
       "  </thead>\n",
       "  <tbody>\n",
       "    <tr>\n",
       "      <th>21732</th>\n",
       "      <td>이 때문에 수천명의 관중들이 입석으로 향하는 좁은 터널에 몰리게 되었다. 하지만 경...</td>\n",
       "      <td>관중들은 펜스에 있는 어떤 문을 억지로 열었는가?</td>\n",
       "      <td>[{, ', a, n, s, w, e, r, _, s, t, a, r, t, ', ...</td>\n",
       "    </tr>\n",
       "    <tr>\n",
       "      <th>21733</th>\n",
       "      <td>이 때문에 수천명의 관중들이 입석으로 향하는 좁은 터널에 몰리게 되었다. 하지만 경...</td>\n",
       "      <td>웨스트 스탠드의 관중들이 뒷사람이 당겨주어 무사한 사람은?</td>\n",
       "      <td>[{, ', a, n, s, w, e, r, _, s, t, a, r, t, ', ...</td>\n",
       "    </tr>\n",
       "    <tr>\n",
       "      <th>21734</th>\n",
       "      <td>이 때문에 수천명의 관중들이 입석으로 향하는 좁은 터널에 몰리게 되었다. 하지만 경...</td>\n",
       "      <td>관중석은 어느 곳에 아수라장이 되었는가?</td>\n",
       "      <td>[{, ', a, n, s, w, e, r, _, s, t, a, r, t, ', ...</td>\n",
       "    </tr>\n",
       "    <tr>\n",
       "      <th>21735</th>\n",
       "      <td>이 때문에 수천명의 관중들이 입석으로 향하는 좁은 터널에 몰리게 되었다. 하지만 경...</td>\n",
       "      <td>관중석은 경찰과 직원과 어떤 대원만으로 사태를 처리할 수 없었는가?</td>\n",
       "      <td>[{, ', a, n, s, w, e, r, _, s, t, a, r, t, ', ...</td>\n",
       "    </tr>\n",
       "    <tr>\n",
       "      <th>21736</th>\n",
       "      <td>이 때문에 수천명의 관중들이 입석으로 향하는 좁은 터널에 몰리게 되었다. 하지만 경...</td>\n",
       "      <td>관중석의 부상당하지 않은 일부는?</td>\n",
       "      <td>[{, ', a, n, s, w, e, r, _, s, t, a, r, t, ', ...</td>\n",
       "    </tr>\n",
       "  </tbody>\n",
       "</table>\n",
       "</div>"
      ],
      "text/plain": [
       "                                                 context  \\\n",
       "21732  이 때문에 수천명의 관중들이 입석으로 향하는 좁은 터널에 몰리게 되었다. 하지만 경...   \n",
       "21733  이 때문에 수천명의 관중들이 입석으로 향하는 좁은 터널에 몰리게 되었다. 하지만 경...   \n",
       "21734  이 때문에 수천명의 관중들이 입석으로 향하는 좁은 터널에 몰리게 되었다. 하지만 경...   \n",
       "21735  이 때문에 수천명의 관중들이 입석으로 향하는 좁은 터널에 몰리게 되었다. 하지만 경...   \n",
       "21736  이 때문에 수천명의 관중들이 입석으로 향하는 좁은 터널에 몰리게 되었다. 하지만 경...   \n",
       "\n",
       "                                    question  \\\n",
       "21732            관중들은 펜스에 있는 어떤 문을 억지로 열었는가?   \n",
       "21733       웨스트 스탠드의 관중들이 뒷사람이 당겨주어 무사한 사람은?   \n",
       "21734                 관중석은 어느 곳에 아수라장이 되었는가?   \n",
       "21735  관중석은 경찰과 직원과 어떤 대원만으로 사태를 처리할 수 없었는가?   \n",
       "21736                     관중석의 부상당하지 않은 일부는?   \n",
       "\n",
       "                                                 answers  \n",
       "21732  [{, ', a, n, s, w, e, r, _, s, t, a, r, t, ', ...  \n",
       "21733  [{, ', a, n, s, w, e, r, _, s, t, a, r, t, ', ...  \n",
       "21734  [{, ', a, n, s, w, e, r, _, s, t, a, r, t, ', ...  \n",
       "21735  [{, ', a, n, s, w, e, r, _, s, t, a, r, t, ', ...  \n",
       "21736  [{, ', a, n, s, w, e, r, _, s, t, a, r, t, ', ...  "
      ]
     },
     "execution_count": 16,
     "metadata": {},
     "output_type": "execute_result"
    }
   ],
   "source": [
    "combined_df.tail()"
   ]
  },
  {
   "cell_type": "code",
   "execution_count": 17,
   "metadata": {},
   "outputs": [
    {
     "data": {
      "text/html": [
       "<div>\n",
       "<style scoped>\n",
       "    .dataframe tbody tr th:only-of-type {\n",
       "        vertical-align: middle;\n",
       "    }\n",
       "\n",
       "    .dataframe tbody tr th {\n",
       "        vertical-align: top;\n",
       "    }\n",
       "\n",
       "    .dataframe thead th {\n",
       "        text-align: right;\n",
       "    }\n",
       "</style>\n",
       "<table border=\"1\" class=\"dataframe\">\n",
       "  <thead>\n",
       "    <tr style=\"text-align: right;\">\n",
       "      <th></th>\n",
       "      <th>context</th>\n",
       "      <th>question</th>\n",
       "      <th>answers</th>\n",
       "    </tr>\n",
       "  </thead>\n",
       "  <tbody>\n",
       "    <tr>\n",
       "      <th>0</th>\n",
       "      <td>과거 필리핀의 1페소 동전이 대한민국 각지의 자동 판매기에서 100원 동전으로 둔갑...</td>\n",
       "      <td>대한민국의 100원 동전과 소재, 무게, 지름, 두께가 비슷한 가치는?</td>\n",
       "      <td>{'answer_start': [205], 'text': ['2개']}</td>\n",
       "    </tr>\n",
       "    <tr>\n",
       "      <th>1</th>\n",
       "      <td>과거 필리핀의 1페소 동전이 대한민국 각지의 자동 판매기에서 100원 동전으로 둔갑...</td>\n",
       "      <td>100원 동전 대신 외국 동전을 악용한 사례는 무엇인가?</td>\n",
       "      <td>{'answer_start': [339], 'text': ['필리핀의 1페소 동전이...</td>\n",
       "    </tr>\n",
       "    <tr>\n",
       "      <th>2</th>\n",
       "      <td>과거 필리핀의 1페소 동전이 대한민국 각지의 자동 판매기에서 100원 동전으로 둔갑...</td>\n",
       "      <td>일본의 500엔 동전처럼 자동 판매기의 사용을 금지시켜야 할 필요가 있다는 여론이 ...</td>\n",
       "      <td>{'answer_start': [393], 'text': ['위변조']}</td>\n",
       "    </tr>\n",
       "    <tr>\n",
       "      <th>3</th>\n",
       "      <td>1850년대와 1860년대를 통해, 쿠바의 농장주와 사업가들은 식민지를 통치하는 근...</td>\n",
       "      <td>신기술과 농경 기술이 많은 수의 노예를 불필요하게 만든 이유는?</td>\n",
       "      <td>{'answer_start': [201], 'text': ['용']}</td>\n",
       "    </tr>\n",
       "    <tr>\n",
       "      <th>4</th>\n",
       "      <td>1850년대와 1860년대를 통해, 쿠바의 농장주와 사업가들은 식민지를 통치하는 근...</td>\n",
       "      <td>신기술과 무엇이 많은 수의 노예를 불필요하게 만들었는가?</td>\n",
       "      <td>{'answer_start': [218], 'text': ['농경']}</td>\n",
       "    </tr>\n",
       "  </tbody>\n",
       "</table>\n",
       "</div>"
      ],
      "text/plain": [
       "                                             context  \\\n",
       "0  과거 필리핀의 1페소 동전이 대한민국 각지의 자동 판매기에서 100원 동전으로 둔갑...   \n",
       "1  과거 필리핀의 1페소 동전이 대한민국 각지의 자동 판매기에서 100원 동전으로 둔갑...   \n",
       "2  과거 필리핀의 1페소 동전이 대한민국 각지의 자동 판매기에서 100원 동전으로 둔갑...   \n",
       "3  1850년대와 1860년대를 통해, 쿠바의 농장주와 사업가들은 식민지를 통치하는 근...   \n",
       "4  1850년대와 1860년대를 통해, 쿠바의 농장주와 사업가들은 식민지를 통치하는 근...   \n",
       "\n",
       "                                            question  \\\n",
       "0            대한민국의 100원 동전과 소재, 무게, 지름, 두께가 비슷한 가치는?   \n",
       "1                    100원 동전 대신 외국 동전을 악용한 사례는 무엇인가?   \n",
       "2  일본의 500엔 동전처럼 자동 판매기의 사용을 금지시켜야 할 필요가 있다는 여론이 ...   \n",
       "3                신기술과 농경 기술이 많은 수의 노예를 불필요하게 만든 이유는?   \n",
       "4                    신기술과 무엇이 많은 수의 노예를 불필요하게 만들었는가?   \n",
       "\n",
       "                                             answers  \n",
       "0            {'answer_start': [205], 'text': ['2개']}  \n",
       "1  {'answer_start': [339], 'text': ['필리핀의 1페소 동전이...  \n",
       "2           {'answer_start': [393], 'text': ['위변조']}  \n",
       "3             {'answer_start': [201], 'text': ['용']}  \n",
       "4            {'answer_start': [218], 'text': ['농경']}  "
      ]
     },
     "execution_count": 17,
     "metadata": {},
     "output_type": "execute_result"
    }
   ],
   "source": [
    "data = pd.read_csv('final_lmqg.csv')\n",
    "data.head()"
   ]
  },
  {
   "cell_type": "code",
   "execution_count": 18,
   "metadata": {},
   "outputs": [
    {
     "data": {
      "text/html": [
       "<div>\n",
       "<style scoped>\n",
       "    .dataframe tbody tr th:only-of-type {\n",
       "        vertical-align: middle;\n",
       "    }\n",
       "\n",
       "    .dataframe tbody tr th {\n",
       "        vertical-align: top;\n",
       "    }\n",
       "\n",
       "    .dataframe thead th {\n",
       "        text-align: right;\n",
       "    }\n",
       "</style>\n",
       "<table border=\"1\" class=\"dataframe\">\n",
       "  <thead>\n",
       "    <tr style=\"text-align: right;\">\n",
       "      <th></th>\n",
       "      <th>context</th>\n",
       "      <th>question</th>\n",
       "      <th>answers</th>\n",
       "    </tr>\n",
       "  </thead>\n",
       "  <tbody>\n",
       "    <tr>\n",
       "      <th>17780</th>\n",
       "      <td>이 때문에 수천명의 관중들이 입석으로 향하는 좁은 터널에 몰리게 되었다. 하지만 경...</td>\n",
       "      <td>관중들은 펜스에 있는 어떤 문을 억지로 열었는가?</td>\n",
       "      <td>{'answer_start': [415], 'text': ['작은 문을 억지로']}</td>\n",
       "    </tr>\n",
       "    <tr>\n",
       "      <th>17781</th>\n",
       "      <td>이 때문에 수천명의 관중들이 입석으로 향하는 좁은 터널에 몰리게 되었다. 하지만 경...</td>\n",
       "      <td>웨스트 스탠드의 관중들이 뒷사람이 당겨주어 무사한 사람은?</td>\n",
       "      <td>{'answer_start': [448], 'text': ['리핑 레인']}</td>\n",
       "    </tr>\n",
       "    <tr>\n",
       "      <th>17782</th>\n",
       "      <td>이 때문에 수천명의 관중들이 입석으로 향하는 좁은 터널에 몰리게 되었다. 하지만 경...</td>\n",
       "      <td>관중석은 어느 곳에 아수라장이 되었는가?</td>\n",
       "      <td>{'answer_start': [554], 'text': ['순식간에 아수라장이']}</td>\n",
       "    </tr>\n",
       "    <tr>\n",
       "      <th>17783</th>\n",
       "      <td>이 때문에 수천명의 관중들이 입석으로 향하는 좁은 터널에 몰리게 되었다. 하지만 경...</td>\n",
       "      <td>관중석은 경찰과 직원과 어떤 대원만으로 사태를 처리할 수 없었는가?</td>\n",
       "      <td>{'answer_start': [578], 'text': ['구급']}</td>\n",
       "    </tr>\n",
       "    <tr>\n",
       "      <th>17784</th>\n",
       "      <td>이 때문에 수천명의 관중들이 입석으로 향하는 좁은 터널에 몰리게 되었다. 하지만 경...</td>\n",
       "      <td>관중석의 부상당하지 않은 일부는?</td>\n",
       "      <td>{'answer_start': [603], 'text': ['부상당하지 않은 일부']}</td>\n",
       "    </tr>\n",
       "  </tbody>\n",
       "</table>\n",
       "</div>"
      ],
      "text/plain": [
       "                                                 context  \\\n",
       "17780  이 때문에 수천명의 관중들이 입석으로 향하는 좁은 터널에 몰리게 되었다. 하지만 경...   \n",
       "17781  이 때문에 수천명의 관중들이 입석으로 향하는 좁은 터널에 몰리게 되었다. 하지만 경...   \n",
       "17782  이 때문에 수천명의 관중들이 입석으로 향하는 좁은 터널에 몰리게 되었다. 하지만 경...   \n",
       "17783  이 때문에 수천명의 관중들이 입석으로 향하는 좁은 터널에 몰리게 되었다. 하지만 경...   \n",
       "17784  이 때문에 수천명의 관중들이 입석으로 향하는 좁은 터널에 몰리게 되었다. 하지만 경...   \n",
       "\n",
       "                                    question  \\\n",
       "17780            관중들은 펜스에 있는 어떤 문을 억지로 열었는가?   \n",
       "17781       웨스트 스탠드의 관중들이 뒷사람이 당겨주어 무사한 사람은?   \n",
       "17782                 관중석은 어느 곳에 아수라장이 되었는가?   \n",
       "17783  관중석은 경찰과 직원과 어떤 대원만으로 사태를 처리할 수 없었는가?   \n",
       "17784                     관중석의 부상당하지 않은 일부는?   \n",
       "\n",
       "                                                answers  \n",
       "17780    {'answer_start': [415], 'text': ['작은 문을 억지로']}  \n",
       "17781        {'answer_start': [448], 'text': ['리핑 레인']}  \n",
       "17782   {'answer_start': [554], 'text': ['순식간에 아수라장이']}  \n",
       "17783           {'answer_start': [578], 'text': ['구급']}  \n",
       "17784  {'answer_start': [603], 'text': ['부상당하지 않은 일부']}  "
      ]
     },
     "execution_count": 18,
     "metadata": {},
     "output_type": "execute_result"
    }
   ],
   "source": [
    "data.tail()"
   ]
  },
  {
   "cell_type": "code",
   "execution_count": 19,
   "metadata": {},
   "outputs": [
    {
     "name": "stderr",
     "output_type": "stream",
     "text": [
      "Saving the dataset (1/1 shards): 100%|██████████| 17785/17785 [00:00<00:00, 48852.33 examples/s]\n"
     ]
    }
   ],
   "source": [
    "from datasets import Dataset\n",
    "\n",
    "# 증강한 데이터셋을 Dataset 객체로 생성\n",
    "augmented_dataset = Dataset.from_pandas(data)\n",
    "\n",
    "# 증강된 데이터셋을 저장\n",
    "augmented_dataset.save_to_disk(\"data/train_dataset_augmented\")"
   ]
  },
  {
   "cell_type": "code",
   "execution_count": null,
   "metadata": {},
   "outputs": [],
   "source": []
  }
 ],
 "metadata": {
  "kernelspec": {
   "display_name": "base",
   "language": "python",
   "name": "python3"
  },
  "language_info": {
   "codemirror_mode": {
    "name": "ipython",
    "version": 3
   },
   "file_extension": ".py",
   "mimetype": "text/x-python",
   "name": "python",
   "nbconvert_exporter": "python",
   "pygments_lexer": "ipython3",
   "version": "3.10.13"
  }
 },
 "nbformat": 4,
 "nbformat_minor": 2
}
