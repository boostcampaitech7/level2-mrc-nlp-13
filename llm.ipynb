{
 "cells": [
  {
   "cell_type": "code",
   "execution_count": 1,
   "metadata": {},
   "outputs": [
    {
     "name": "stderr",
     "output_type": "stream",
     "text": [
      "/opt/conda/lib/python3.10/site-packages/tqdm/auto.py:21: TqdmWarning: IProgress not found. Please update jupyter and ipywidgets. See https://ipywidgets.readthedocs.io/en/stable/user_install.html\n",
      "  from .autonotebook import tqdm as notebook_tqdm\n"
     ]
    },
    {
     "data": {
      "text/html": [
       "<div>\n",
       "<style scoped>\n",
       "    .dataframe tbody tr th:only-of-type {\n",
       "        vertical-align: middle;\n",
       "    }\n",
       "\n",
       "    .dataframe tbody tr th {\n",
       "        vertical-align: top;\n",
       "    }\n",
       "\n",
       "    .dataframe thead th {\n",
       "        text-align: right;\n",
       "    }\n",
       "</style>\n",
       "<table border=\"1\" class=\"dataframe\">\n",
       "  <thead>\n",
       "    <tr style=\"text-align: right;\">\n",
       "      <th></th>\n",
       "      <th>title</th>\n",
       "      <th>context</th>\n",
       "      <th>question</th>\n",
       "      <th>id</th>\n",
       "      <th>answers</th>\n",
       "      <th>document_id</th>\n",
       "      <th>__index_level_0__</th>\n",
       "    </tr>\n",
       "  </thead>\n",
       "  <tbody>\n",
       "    <tr>\n",
       "      <th>0</th>\n",
       "      <td>미국 상원</td>\n",
       "      <td>미국 상의원 또는 미국 상원(United States Senate)은 양원제인 미국...</td>\n",
       "      <td>대통령을 포함한 미국의 행정부 견제권을 갖는 국가 기관은?</td>\n",
       "      <td>mrc-1-000067</td>\n",
       "      <td>{'answer_start': [235], 'text': ['하원']}</td>\n",
       "      <td>18293</td>\n",
       "      <td>42</td>\n",
       "    </tr>\n",
       "    <tr>\n",
       "      <th>1</th>\n",
       "      <td>인사조직관리</td>\n",
       "      <td>'근대적 경영학' 또는 '고전적 경영학'에서 현대적 경영학으로 전환되는 시기는 19...</td>\n",
       "      <td>현대적 인사조직관리의 시발점이 된 책은?</td>\n",
       "      <td>mrc-0-004397</td>\n",
       "      <td>{'answer_start': [212], 'text': ['《경영의 실제》']}</td>\n",
       "      <td>51638</td>\n",
       "      <td>2873</td>\n",
       "    </tr>\n",
       "    <tr>\n",
       "      <th>2</th>\n",
       "      <td>강희제</td>\n",
       "      <td>강희제는 강화된 황권으로 거의 황제 중심의 독단적으로 나라를 이끌어 갔기에 자칫 전...</td>\n",
       "      <td>강희제가 1717년에 쓴 글은 누구를 위해 쓰여졌는가?</td>\n",
       "      <td>mrc-1-000362</td>\n",
       "      <td>{'answer_start': [510], 'text': ['백성']}</td>\n",
       "      <td>5028</td>\n",
       "      <td>230</td>\n",
       "    </tr>\n",
       "    <tr>\n",
       "      <th>3</th>\n",
       "      <td>금동삼존불감</td>\n",
       "      <td>불상을 모시기 위해 나무나 돌, 쇠 등을 깎아 일반적인 건축물보다 작은 규모로 만든...</td>\n",
       "      <td>11~12세기에 제작된 본존불은 보통 어떤 나라의 특징이 전파되었나요?</td>\n",
       "      <td>mrc-0-001510</td>\n",
       "      <td>{'answer_start': [625], 'text': ['중국']}</td>\n",
       "      <td>34146</td>\n",
       "      <td>992</td>\n",
       "    </tr>\n",
       "    <tr>\n",
       "      <th>4</th>\n",
       "      <td>계사명 사리구</td>\n",
       "      <td>동아대학교박물관에서 소장하고 있는 계사명 사리구는 총 4개의 용기로 구성된 조선후기...</td>\n",
       "      <td>명문이 적힌 유물을 구성하는 그릇의 총 개수는?</td>\n",
       "      <td>mrc-0-000823</td>\n",
       "      <td>{'answer_start': [30], 'text': ['4개']}</td>\n",
       "      <td>47334</td>\n",
       "      <td>548</td>\n",
       "    </tr>\n",
       "  </tbody>\n",
       "</table>\n",
       "</div>"
      ],
      "text/plain": [
       "     title                                            context  \\\n",
       "0    미국 상원  미국 상의원 또는 미국 상원(United States Senate)은 양원제인 미국...   \n",
       "1   인사조직관리  '근대적 경영학' 또는 '고전적 경영학'에서 현대적 경영학으로 전환되는 시기는 19...   \n",
       "2      강희제  강희제는 강화된 황권으로 거의 황제 중심의 독단적으로 나라를 이끌어 갔기에 자칫 전...   \n",
       "3   금동삼존불감  불상을 모시기 위해 나무나 돌, 쇠 등을 깎아 일반적인 건축물보다 작은 규모로 만든...   \n",
       "4  계사명 사리구  동아대학교박물관에서 소장하고 있는 계사명 사리구는 총 4개의 용기로 구성된 조선후기...   \n",
       "\n",
       "                                  question            id  \\\n",
       "0         대통령을 포함한 미국의 행정부 견제권을 갖는 국가 기관은?  mrc-1-000067   \n",
       "1                   현대적 인사조직관리의 시발점이 된 책은?  mrc-0-004397   \n",
       "2           강희제가 1717년에 쓴 글은 누구를 위해 쓰여졌는가?  mrc-1-000362   \n",
       "3  11~12세기에 제작된 본존불은 보통 어떤 나라의 특징이 전파되었나요?  mrc-0-001510   \n",
       "4               명문이 적힌 유물을 구성하는 그릇의 총 개수는?  mrc-0-000823   \n",
       "\n",
       "                                         answers  document_id  \\\n",
       "0        {'answer_start': [235], 'text': ['하원']}        18293   \n",
       "1  {'answer_start': [212], 'text': ['《경영의 실제》']}        51638   \n",
       "2        {'answer_start': [510], 'text': ['백성']}         5028   \n",
       "3        {'answer_start': [625], 'text': ['중국']}        34146   \n",
       "4         {'answer_start': [30], 'text': ['4개']}        47334   \n",
       "\n",
       "   __index_level_0__  \n",
       "0                 42  \n",
       "1               2873  \n",
       "2                230  \n",
       "3                992  \n",
       "4                548  "
      ]
     },
     "execution_count": 1,
     "metadata": {},
     "output_type": "execute_result"
    }
   ],
   "source": [
    "from datasets import Dataset\n",
    "\n",
    "base_train = Dataset.load_from_disk('/data/ephemeral/home/sungeun/level2-mrc-nlp-13/data/train_dataset/train')\n",
    "base_train_df = base_train.to_pandas()\n",
    "base_train_df.head()"
   ]
  },
  {
   "cell_type": "code",
   "execution_count": 2,
   "metadata": {},
   "outputs": [
    {
     "data": {
      "text/plain": [
       "title                                                            미국 상원\n",
       "context              미국 상의원 또는 미국 상원(United States Senate)은 양원제인 미국...\n",
       "question                              대통령을 포함한 미국의 행정부 견제권을 갖는 국가 기관은?\n",
       "id                                                        mrc-1-000067\n",
       "answers                        {'answer_start': [235], 'text': ['하원']}\n",
       "document_id                                                      18293\n",
       "__index_level_0__                                                   42\n",
       "Name: 0, dtype: object"
      ]
     },
     "execution_count": 2,
     "metadata": {},
     "output_type": "execute_result"
    }
   ],
   "source": [
    "base_train_df.iloc[0]"
   ]
  },
  {
   "cell_type": "code",
   "execution_count": 3,
   "metadata": {},
   "outputs": [
    {
     "name": "stdout",
     "output_type": "stream",
     "text": [
      "title\n",
      "윤치호            43\n",
      "장면             24\n",
      "여운형            23\n",
      "루트비히 비트겐슈타인    13\n",
      "데카메론의 줄거리      13\n",
      "근대             13\n",
      "강희제            11\n",
      "이오 (위성)        11\n",
      "미치류            11\n",
      "자유한국당          10\n",
      "Name: count, dtype: int64\n"
     ]
    }
   ],
   "source": [
    "train_most_common_title = base_train_df['title'].value_counts().head(10)\n",
    "print(train_most_common_title)"
   ]
  },
  {
   "cell_type": "code",
   "execution_count": 4,
   "metadata": {},
   "outputs": [
    {
     "data": {
      "text/html": [
       "<div>\n",
       "<style scoped>\n",
       "    .dataframe tbody tr th:only-of-type {\n",
       "        vertical-align: middle;\n",
       "    }\n",
       "\n",
       "    .dataframe tbody tr th {\n",
       "        vertical-align: top;\n",
       "    }\n",
       "\n",
       "    .dataframe thead th {\n",
       "        text-align: right;\n",
       "    }\n",
       "</style>\n",
       "<table border=\"1\" class=\"dataframe\">\n",
       "  <thead>\n",
       "    <tr style=\"text-align: right;\">\n",
       "      <th></th>\n",
       "      <th>title</th>\n",
       "      <th>context</th>\n",
       "      <th>question</th>\n",
       "      <th>id</th>\n",
       "      <th>answers</th>\n",
       "      <th>document_id</th>\n",
       "      <th>__index_level_0__</th>\n",
       "    </tr>\n",
       "  </thead>\n",
       "  <tbody>\n",
       "    <tr>\n",
       "      <th>19</th>\n",
       "      <td>윤치호</td>\n",
       "      <td>혹자는 윤치호의 직계선조인 윤근수, 윤두수로 그의 문중은 당색으로는 서인 소론 계열...</td>\n",
       "      <td>윤치호가 극찬했던 조선시대의 인물은 누구인가요?</td>\n",
       "      <td>mrc-1-000027</td>\n",
       "      <td>{'answer_start': [585], 'text': ['다산 정약용']}</td>\n",
       "      <td>5322</td>\n",
       "      <td>18</td>\n",
       "    </tr>\n",
       "    <tr>\n",
       "      <th>171</th>\n",
       "      <td>윤치호</td>\n",
       "      <td>1903년 1월 함경도 안핵사로 임명되어 함경남도 함흥에 파견되었고, 7월 천안군수...</td>\n",
       "      <td>윤치호가 중앙 정계에서 다시 활동하기 전에 일어난 전투는?</td>\n",
       "      <td>mrc-0-000606</td>\n",
       "      <td>{'answer_start': [616], 'text': ['러일전쟁']}</td>\n",
       "      <td>5295</td>\n",
       "      <td>410</td>\n",
       "    </tr>\n",
       "    <tr>\n",
       "      <th>201</th>\n",
       "      <td>윤치호</td>\n",
       "      <td>그러나 한편으로는 미국 사회의 인종차별주의적, 흑인을 차별하는 태도를 목격하면서 백...</td>\n",
       "      <td>평상시 기독교선교사들로부터 차별적 대우를 받은 윤치호가 생각한 미국의 중대한 속성은?</td>\n",
       "      <td>mrc-0-001069</td>\n",
       "      <td>{'answer_start': [645], 'text': ['인종주의']}</td>\n",
       "      <td>5284</td>\n",
       "      <td>705</td>\n",
       "    </tr>\n",
       "    <tr>\n",
       "      <th>294</th>\n",
       "      <td>윤치호</td>\n",
       "      <td>서재필이 배재학당의 젊은 학생들과 애국적인 시민을 독립협회로 모으는 데 기여했다면 ...</td>\n",
       "      <td>서재필은 어디에서 공부하는 학생들을 독립협회로 모이게 했나요?</td>\n",
       "      <td>mrc-0-000980</td>\n",
       "      <td>{'answer_start': [5], 'text': ['배재학당']}</td>\n",
       "      <td>5342</td>\n",
       "      <td>648</td>\n",
       "    </tr>\n",
       "    <tr>\n",
       "      <th>415</th>\n",
       "      <td>윤치호</td>\n",
       "      <td>1895년 귀국 직후부터 그는 영어 실력을 바탕으로 그는 조선을 방문한 선교사들의 ...</td>\n",
       "      <td>윤치호가 아버지 윤웅렬을 설득해 교회와 학교를 지을 땅을 제공했던 선교사의 이름은?</td>\n",
       "      <td>mrc-0-004643</td>\n",
       "      <td>{'answer_start': [77], 'text': ['조세핀 애턴 캠밸']}</td>\n",
       "      <td>5289</td>\n",
       "      <td>3028</td>\n",
       "    </tr>\n",
       "  </tbody>\n",
       "</table>\n",
       "</div>"
      ],
      "text/plain": [
       "    title                                            context  \\\n",
       "19    윤치호  혹자는 윤치호의 직계선조인 윤근수, 윤두수로 그의 문중은 당색으로는 서인 소론 계열...   \n",
       "171   윤치호  1903년 1월 함경도 안핵사로 임명되어 함경남도 함흥에 파견되었고, 7월 천안군수...   \n",
       "201   윤치호  그러나 한편으로는 미국 사회의 인종차별주의적, 흑인을 차별하는 태도를 목격하면서 백...   \n",
       "294   윤치호  서재필이 배재학당의 젊은 학생들과 애국적인 시민을 독립협회로 모으는 데 기여했다면 ...   \n",
       "415   윤치호  1895년 귀국 직후부터 그는 영어 실력을 바탕으로 그는 조선을 방문한 선교사들의 ...   \n",
       "\n",
       "                                            question            id  \\\n",
       "19                        윤치호가 극찬했던 조선시대의 인물은 누구인가요?  mrc-1-000027   \n",
       "171                 윤치호가 중앙 정계에서 다시 활동하기 전에 일어난 전투는?  mrc-0-000606   \n",
       "201  평상시 기독교선교사들로부터 차별적 대우를 받은 윤치호가 생각한 미국의 중대한 속성은?  mrc-0-001069   \n",
       "294               서재필은 어디에서 공부하는 학생들을 독립협회로 모이게 했나요?  mrc-0-000980   \n",
       "415   윤치호가 아버지 윤웅렬을 설득해 교회와 학교를 지을 땅을 제공했던 선교사의 이름은?  mrc-0-004643   \n",
       "\n",
       "                                           answers  document_id  \\\n",
       "19     {'answer_start': [585], 'text': ['다산 정약용']}         5322   \n",
       "171      {'answer_start': [616], 'text': ['러일전쟁']}         5295   \n",
       "201      {'answer_start': [645], 'text': ['인종주의']}         5284   \n",
       "294        {'answer_start': [5], 'text': ['배재학당']}         5342   \n",
       "415  {'answer_start': [77], 'text': ['조세핀 애턴 캠밸']}         5289   \n",
       "\n",
       "     __index_level_0__  \n",
       "19                  18  \n",
       "171                410  \n",
       "201                705  \n",
       "294                648  \n",
       "415               3028  "
      ]
     },
     "execution_count": 4,
     "metadata": {},
     "output_type": "execute_result"
    }
   ],
   "source": [
    "# 'title'이 '윤치호'인 행을 먼저 필터링한 후 중복된 'context' 제거\n",
    "yunchiho_unique_context_rows = base_train_df[base_train_df['title'] == '윤치호']\n",
    "\n",
    "# 결과 출력\n",
    "yunchiho_unique_context_rows.head()"
   ]
  },
  {
   "cell_type": "code",
   "execution_count": 5,
   "metadata": {},
   "outputs": [
    {
     "data": {
      "text/plain": [
       "43"
      ]
     },
     "execution_count": 5,
     "metadata": {},
     "output_type": "execute_result"
    }
   ],
   "source": [
    "len(yunchiho_unique_context_rows)"
   ]
  },
  {
   "cell_type": "code",
   "execution_count": 6,
   "metadata": {},
   "outputs": [
    {
     "data": {
      "text/html": [
       "<div>\n",
       "<style scoped>\n",
       "    .dataframe tbody tr th:only-of-type {\n",
       "        vertical-align: middle;\n",
       "    }\n",
       "\n",
       "    .dataframe tbody tr th {\n",
       "        vertical-align: top;\n",
       "    }\n",
       "\n",
       "    .dataframe thead th {\n",
       "        text-align: right;\n",
       "    }\n",
       "</style>\n",
       "<table border=\"1\" class=\"dataframe\">\n",
       "  <thead>\n",
       "    <tr style=\"text-align: right;\">\n",
       "      <th></th>\n",
       "      <th>context</th>\n",
       "      <th>question</th>\n",
       "    </tr>\n",
       "  </thead>\n",
       "  <tbody>\n",
       "    <tr>\n",
       "      <th>0</th>\n",
       "      <td>1884년 1월 18일부터 8월 9일까지 윤치호는 거듭하여 사관학교 설립을 상주한다...</td>\n",
       "      <td>[윤치호와 함께 개화당의 거사에 대해 비판했던 사람은?, 윤치호가 국방군 양성을 위...</td>\n",
       "    </tr>\n",
       "    <tr>\n",
       "      <th>1</th>\n",
       "      <td>1888년 중국 짱수 성 상하이에서 일하던 미국 남감리교회 선교사 알렌의 주선으로 ...</td>\n",
       "      <td>[김옥균이 히라노초를 갔을 당시 믿고 의지했던 인물은?]</td>\n",
       "    </tr>\n",
       "    <tr>\n",
       "      <th>2</th>\n",
       "      <td>1895년 12월 독립협회의 동지 서재필이 복권되어 귀국했다. 서재필이 처음 귀국했...</td>\n",
       "      <td>[1895년에 서재필이 숨어있던 곳은?]</td>\n",
       "    </tr>\n",
       "    <tr>\n",
       "      <th>3</th>\n",
       "      <td>1895년 귀국 직후부터 그는 영어 실력을 바탕으로 그는 조선을 방문한 선교사들의 ...</td>\n",
       "      <td>[윤치호가 아버지 윤웅렬을 설득해 교회와 학교를 지을 땅을 제공했던 선교사의 이름은...</td>\n",
       "    </tr>\n",
       "    <tr>\n",
       "      <th>4</th>\n",
       "      <td>1903년 1월 함경도 안핵사로 임명되어 함경남도 함흥에 파견되었고, 7월 천안군수...</td>\n",
       "      <td>[윤치호가 중앙 정계에서 다시 활동하기 전에 일어난 전투는?]</td>\n",
       "    </tr>\n",
       "  </tbody>\n",
       "</table>\n",
       "</div>"
      ],
      "text/plain": [
       "                                             context  \\\n",
       "0  1884년 1월 18일부터 8월 9일까지 윤치호는 거듭하여 사관학교 설립을 상주한다...   \n",
       "1  1888년 중국 짱수 성 상하이에서 일하던 미국 남감리교회 선교사 알렌의 주선으로 ...   \n",
       "2  1895년 12월 독립협회의 동지 서재필이 복권되어 귀국했다. 서재필이 처음 귀국했...   \n",
       "3  1895년 귀국 직후부터 그는 영어 실력을 바탕으로 그는 조선을 방문한 선교사들의 ...   \n",
       "4  1903년 1월 함경도 안핵사로 임명되어 함경남도 함흥에 파견되었고, 7월 천안군수...   \n",
       "\n",
       "                                            question  \n",
       "0  [윤치호와 함께 개화당의 거사에 대해 비판했던 사람은?, 윤치호가 국방군 양성을 위...  \n",
       "1                    [김옥균이 히라노초를 갔을 당시 믿고 의지했던 인물은?]  \n",
       "2                             [1895년에 서재필이 숨어있던 곳은?]  \n",
       "3  [윤치호가 아버지 윤웅렬을 설득해 교회와 학교를 지을 땅을 제공했던 선교사의 이름은...  \n",
       "4                 [윤치호가 중앙 정계에서 다시 활동하기 전에 일어난 전투는?]  "
      ]
     },
     "execution_count": 6,
     "metadata": {},
     "output_type": "execute_result"
    }
   ],
   "source": [
    "grouped = yunchiho_unique_context_rows.groupby('context')['question'].apply(list).reset_index()\n",
    "grouped.head()"
   ]
  },
  {
   "cell_type": "code",
   "execution_count": 7,
   "metadata": {},
   "outputs": [
    {
     "data": {
      "text/plain": [
       "'1884년 1월 18일부터 8월 9일까지 윤치호는 거듭하여 사관학교 설립을 상주한다. 윤치호는 군대 통솔권의 일원화 군인정신의 합일, 상무정신의 강화를 통하여 충성스럽고 용감한 국방군을 양성해야 한다고 보았던 것이다. 이러한 목적에서 그는 미국인 군사교관을 초빙하여 각 영을 통합훈련할 것 과 사관학교 설립을 건의했던 것이다. 이어 병원과 학교의 설립 및 전신국의 설치를 미국인에게 허가해줄 것을 건의하는 등 근대시설의 도입에도 깊은 관심을 보였다\\\\n\\\\n1884년 7월에는 선교사들을 통해 신식 병원과 전화국을 유치, 개설할 것을 고종에게 상주하여 허락받았다. 그러나 신식 병원 도입과 전화국 개통은 갑신정변의 실패로 전면 백지화된다. 1894년 9월 무렵 그는 일본의 조선 침략을 예상하였다. \\'일본은 이제까지는 개혁을 조선인 스스로 하도록 하려 했다. 그러나 그들이 볼 때 조선인들이 개혁의 의욕도 능력도 없음을 보고 주도권을 잡기로 결심한 것 같다 \\'며 일본이 한국에 영향력을 행사하리라고 전망했다. 1884년 12월의 갑신정변 직전까지 그는 온건파 개화당의 일원으로 자주독립과 참정권, 부국강병을 위해 활동하였다. 영어 실력의 부족함을 느낀 그는 다시 주조선미국 공사관의 직원들과 교류하며 자신에게 영어를 가르쳐줄 것을 부탁하여 주조선미국공사관 직원 미군 중위 존 B. 베르나든(John B. Bernadon)이 이를 수락하였다. 5월 그는 1개월간 베르나든에게 하루 한 시간씩 영어 개인 지도를 받기도 했다.\\\\n\\\\n1884년 12월 갑신정변 초기에 윤치호는 정변 계획을 접하고 혁명의 성공을 기대하였다. 당시 김옥균을 믿고 따랐던 그는 1894년 11월에 접어들면서 윤치호는 아버지인 윤웅렬과 함께 \\'개화당의 급진이 불가능한 일\\'이라는 입장을 견지하고 개화당의 급진성을 겨냥, 근신을 촉구하는 입장을 보였다. 며칠 뒤 윤치호는 김옥균에게 \"가친(아버지)이 기회를 보고, 변화를 엿보아 움직이는 것이 좋겠다고 한다 \"라는 말을 전했다.\\\\n\\\\n그는 서광범, 김옥균, 서재필, 박영효 등과 가까이 지냈고 혁명의 성공을 내심 기대하였지만 1884년 12월 갑신정변 때는 개량적 근대화론자로서, 주도층과의 시국관 차이로 적극 참여하지는 않았다. 1884년 12월 4일(음력 10월 17일)에 갑신정변이 발생하자 음력 10월 18일 윤치호와 윤웅렬은 \"(개화당)이 무식하여 이치를 모르고, 무지하여 시세에 어두운 것\"이라고 논했다 우선 윤치호는 이들의 거사 준비가 허술하고, 거사 기간이 짧다는 점과 인력을 많이 동원하지 못한 점을 보고 실패를 예감하였다. 또한 윤치호는 독립과 개화를 달성하는데 고종 만을 믿을 수는 없다고 봤다.\\\\n\\\\n그러나 김옥균, 박영효 등과 절친했기 때문에 정변 실패 후 신변의 위 을 느껴 출국을 결심하게 된다. 사실 갑신정변의 실패를 예감했던 그는 망명할 계획을 미리 세워놓기도 했다.'"
      ]
     },
     "execution_count": 7,
     "metadata": {},
     "output_type": "execute_result"
    }
   ],
   "source": [
    "context = grouped['context'][0]\n",
    "context"
   ]
  },
  {
   "cell_type": "code",
   "execution_count": 8,
   "metadata": {},
   "outputs": [
    {
     "data": {
      "text/plain": [
       "['윤치호와 함께 개화당의 거사에 대해 비판했던 사람은?', '윤치호가 국방군 양성을 위해 만들자고 건의한 것은?']"
      ]
     },
     "execution_count": 8,
     "metadata": {},
     "output_type": "execute_result"
    }
   ],
   "source": [
    "question = grouped['question'][0]\n",
    "question"
   ]
  },
  {
   "cell_type": "markdown",
   "metadata": {},
   "source": [
    "- 윤치호가 영어를 배우기 위해 도움을 청한 사람은 누구였는가?\n",
    "- 윤치호는 1884년 갑신정변이 실패할 것이라고 예감한 이유는 무엇인가?\n",
    "- 윤치호가 미국인 군사 교관을 초빙하려 했던 목적은 무엇인가?\n",
    "- 갑신정변 실패 이후 윤치호가 느낀 신변의 위협은 무엇으로부터 비롯되었는가?\n",
    "- 윤치호가 1894년에 일본의 조선 침략을 예상한 이유는 무엇인가?\n",
    "- 갑신정변 당시 윤치호가 개화당의 급진성에 대해 취했던 입장은 무엇이었는가?"
   ]
  },
  {
   "cell_type": "code",
   "execution_count": 16,
   "metadata": {},
   "outputs": [
    {
     "name": "stdout",
     "output_type": "stream",
     "text": [
      "huggingface/tokenizers: The current process just got forked, after parallelism has already been used. Disabling parallelism to avoid deadlocks...\n",
      "To disable this warning, you can either:\n",
      "\t- Avoid using `tokenizers` before the fork if possible\n",
      "\t- Explicitly set the environment variable TOKENIZERS_PARALLELISM=(true | false)\n",
      "Requirement already satisfied: transformers in /opt/conda/lib/python3.10/site-packages (4.25.1)\n",
      "Requirement already satisfied: torch in /opt/conda/lib/python3.10/site-packages (1.13.0)\n",
      "Requirement already satisfied: filelock in /opt/conda/lib/python3.10/site-packages (from transformers) (3.16.1)\n",
      "Requirement already satisfied: huggingface-hub<1.0,>=0.10.0 in /opt/conda/lib/python3.10/site-packages (from transformers) (0.25.2)\n",
      "Requirement already satisfied: numpy>=1.17 in /opt/conda/lib/python3.10/site-packages (from transformers) (1.26.0)\n",
      "Requirement already satisfied: packaging>=20.0 in /opt/conda/lib/python3.10/site-packages (from transformers) (23.1)\n",
      "Requirement already satisfied: pyyaml>=5.1 in /opt/conda/lib/python3.10/site-packages (from transformers) (6.0)\n",
      "Requirement already satisfied: regex!=2019.12.17 in /opt/conda/lib/python3.10/site-packages (from transformers) (2024.9.11)\n",
      "Requirement already satisfied: requests in /opt/conda/lib/python3.10/site-packages (from transformers) (2.31.0)\n",
      "Requirement already satisfied: tokenizers!=0.11.3,<0.14,>=0.11.1 in /opt/conda/lib/python3.10/site-packages (from transformers) (0.13.3)\n",
      "Requirement already satisfied: tqdm>=4.27 in /opt/conda/lib/python3.10/site-packages (from transformers) (4.65.0)\n",
      "Requirement already satisfied: typing-extensions in /opt/conda/lib/python3.10/site-packages (from torch) (4.12.2)\n",
      "Requirement already satisfied: nvidia-cuda-runtime-cu11==11.7.99 in /opt/conda/lib/python3.10/site-packages (from torch) (11.7.99)\n",
      "Requirement already satisfied: nvidia-cudnn-cu11==8.5.0.96 in /opt/conda/lib/python3.10/site-packages (from torch) (8.5.0.96)\n",
      "Requirement already satisfied: nvidia-cublas-cu11==11.10.3.66 in /opt/conda/lib/python3.10/site-packages (from torch) (11.10.3.66)\n",
      "Requirement already satisfied: nvidia-cuda-nvrtc-cu11==11.7.99 in /opt/conda/lib/python3.10/site-packages (from torch) (11.7.99)\n",
      "Requirement already satisfied: setuptools in /opt/conda/lib/python3.10/site-packages (from nvidia-cublas-cu11==11.10.3.66->torch) (68.0.0)\n",
      "Requirement already satisfied: wheel in /opt/conda/lib/python3.10/site-packages (from nvidia-cublas-cu11==11.10.3.66->torch) (0.41.2)\n",
      "Requirement already satisfied: fsspec>=2023.5.0 in /opt/conda/lib/python3.10/site-packages (from huggingface-hub<1.0,>=0.10.0->transformers) (2023.9.2)\n",
      "Requirement already satisfied: charset-normalizer<4,>=2 in /opt/conda/lib/python3.10/site-packages (from requests->transformers) (2.0.4)\n",
      "Requirement already satisfied: idna<4,>=2.5 in /opt/conda/lib/python3.10/site-packages (from requests->transformers) (2.10)\n",
      "Requirement already satisfied: urllib3<3,>=1.21.1 in /opt/conda/lib/python3.10/site-packages (from requests->transformers) (1.26.16)\n",
      "Requirement already satisfied: certifi>=2017.4.17 in /opt/conda/lib/python3.10/site-packages (from requests->transformers) (2024.8.30)\n",
      "\u001b[33mWARNING: Running pip as the 'root' user can result in broken permissions and conflicting behaviour with the system package manager. It is recommended to use a virtual environment instead: https://pip.pypa.io/warnings/venv\u001b[0m\u001b[33m\n",
      "\u001b[0mNote: you may need to restart the kernel to use updated packages.\n"
     ]
    }
   ],
   "source": [
    "pip install transformers torch"
   ]
  },
  {
   "cell_type": "code",
   "execution_count": 17,
   "metadata": {},
   "outputs": [
    {
     "name": "stderr",
     "output_type": "stream",
     "text": [
      "Special tokens have been added in the vocabulary, make sure the associated word embeddings are fine-tuned or trained.\n"
     ]
    }
   ],
   "source": [
    "from transformers import T5TokenizerFast, T5ForConditionalGeneration\n",
    "\n",
    "# Load the pre-trained model and tokenizer\n",
    "model_name = 'paust/pko-t5-base'  # You can also use a Korean-specific model if needed\n",
    "tokenizer = T5TokenizerFast.from_pretrained(model_name)\n",
    "model = T5ForConditionalGeneration.from_pretrained(model_name)"
   ]
  },
  {
   "cell_type": "code",
   "execution_count": 18,
   "metadata": {},
   "outputs": [
    {
     "name": "stdout",
     "output_type": "stream",
     "text": [
      "Generated Question:  question question: The capital of France is Paris. question  The cap\n"
     ]
    }
   ],
   "source": [
    "def generate_question(text):\n",
    "    # Prepare the input text\n",
    "    input_text = \"generate question: \" + text\n",
    "    input_ids = tokenizer.encode(input_text, return_tensors='pt')\n",
    "\n",
    "    # Generate questions\n",
    "    output = model.generate(input_ids, max_length=50, num_beams=5, early_stopping=True)\n",
    "    question = tokenizer.decode(output[0], skip_special_tokens=True)\n",
    "\n",
    "    return question\n",
    "\n",
    "# Example usage\n",
    "text = \"The capital of France is Paris.\"\n",
    "question = generate_question(text)\n",
    "print(\"Generated Question:\", question)"
   ]
  },
  {
   "cell_type": "code",
   "execution_count": 19,
   "metadata": {},
   "outputs": [
    {
     "name": "stdout",
     "output_type": "stream",
     "text": [
      "Answer: Paris\n"
     ]
    }
   ],
   "source": [
    "from transformers import pipeline\n",
    "\n",
    "# Load the Q&A pipeline\n",
    "qa_pipeline = pipeline(\"question-answering\", model=\"distilbert-base-uncased-distilled-squad\")\n",
    "\n",
    "def answer_question(question, context):\n",
    "    result = qa_pipeline(question=question, context=context)\n",
    "    return result['answer']\n",
    "\n",
    "# Example usage\n",
    "context = \"The capital of France is Paris.\"\n",
    "answer = answer_question(question, context)\n",
    "print(\"Answer:\", answer)"
   ]
  },
  {
   "cell_type": "code",
   "execution_count": 20,
   "metadata": {},
   "outputs": [
    {
     "name": "stdout",
     "output_type": "stream",
     "text": [
      "Generated Question:  question question: The capital of France is Paris. question  The cap\n",
      "Answer: Paris\n"
     ]
    }
   ],
   "source": [
    "# Complete Example\n",
    "text = \"The capital of France is Paris.\"\n",
    "question = generate_question(text)\n",
    "answer = answer_question(question, text)\n",
    "\n",
    "print(\"Generated Question:\", question)\n",
    "print(\"Answer:\", answer)\n"
   ]
  },
  {
   "cell_type": "code",
   "execution_count": null,
   "metadata": {},
   "outputs": [],
   "source": []
  }
 ],
 "metadata": {
  "kernelspec": {
   "display_name": "base",
   "language": "python",
   "name": "python3"
  },
  "language_info": {
   "codemirror_mode": {
    "name": "ipython",
    "version": 3
   },
   "file_extension": ".py",
   "mimetype": "text/x-python",
   "name": "python",
   "nbconvert_exporter": "python",
   "pygments_lexer": "ipython3",
   "version": "3.10.13"
  }
 },
 "nbformat": 4,
 "nbformat_minor": 2
}
